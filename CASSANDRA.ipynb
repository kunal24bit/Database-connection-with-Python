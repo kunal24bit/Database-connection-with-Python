{
 "cells": [
  {
   "cell_type": "code",
   "execution_count": 35,
   "id": "05efc9c4",
   "metadata": {},
   "outputs": [
    {
     "name": "stdout",
     "output_type": "stream",
     "text": [
      "Requirement already satisfied: cassandra-driver in c:\\users\\hp\\anaconda3\\lib\\site-packages (3.25.0)\n",
      "Requirement already satisfied: geomet<0.3,>=0.1 in c:\\users\\hp\\anaconda3\\lib\\site-packages (from cassandra-driver) (0.2.1.post1)\n",
      "Requirement already satisfied: six>=1.9 in c:\\users\\hp\\anaconda3\\lib\\site-packages (from cassandra-driver) (1.15.0)\n",
      "Requirement already satisfied: click in c:\\users\\hp\\anaconda3\\lib\\site-packages (from geomet<0.3,>=0.1->cassandra-driver) (7.1.2)\n"
     ]
    }
   ],
   "source": [
    "!pip install cassandra-driver"
   ]
  },
  {
   "cell_type": "code",
   "execution_count": 36,
   "id": "8fe73ecf",
   "metadata": {},
   "outputs": [
    {
     "name": "stdout",
     "output_type": "stream",
     "text": [
      "3.25.0\n"
     ]
    }
   ],
   "source": [
    "import cassandra\n",
    "\n",
    "print(cassandra.__version__)"
   ]
  },
  {
   "cell_type": "code",
   "execution_count": 37,
   "id": "d3cc5305",
   "metadata": {},
   "outputs": [
    {
     "name": "stdout",
     "output_type": "stream",
     "text": [
      "4.0.0.6815\n"
     ]
    }
   ],
   "source": [
    "from cassandra.cluster import Cluster\n",
    "from cassandra.auth import PlainTextAuthProvider\n",
    "\n",
    "cloud_config= {\n",
    "        'secure_connect_bundle':r'C:\\Users\\Hp\\Downloads\\secure-connect-kunal96.zip'\n",
    "}\n",
    "auth_provider = PlainTextAuthProvider('FYYmjuEdanoBlDQHxcSSUjhq', 'kn4k6RirOxHm_-q,wBtKZd.eg_4xTm,rE6_2_AMpq2tXrmHo9MFXSP.auoKnMGtJ9K6cTj,WZZjNoW4U.dCPa8ono_r0HZmkF,Q-7NZFtIh4RyqvpHc.SSHcELywTG-W')\n",
    "cluster = Cluster(cloud=cloud_config, auth_provider=auth_provider)\n",
    "session = cluster.connect()\n",
    "\n",
    "row = session.execute(\"select release_version from system.local\").one()\n",
    "if row:\n",
    "    print(row[0])\n",
    "else:\n",
    "    print(\"An error occurred.\")"
   ]
  },
  {
   "cell_type": "markdown",
   "id": "fa7b090b",
   "metadata": {},
   "source": [
    "# Hurray Connected  !!"
   ]
  },
  {
   "cell_type": "code",
   "execution_count": 38,
   "id": "513ec90f",
   "metadata": {},
   "outputs": [
    {
     "ename": "Unauthorized",
     "evalue": "Error from server: code=2100 [Unauthorized] message=\"Missing correct permission on sudh.\"",
     "output_type": "error",
     "traceback": [
      "\u001b[1;31m---------------------------------------------------------------------------\u001b[0m",
      "\u001b[1;31mUnauthorized\u001b[0m                              Traceback (most recent call last)",
      "\u001b[1;32m<ipython-input-38-3ca73750437d>\u001b[0m in \u001b[0;36m<module>\u001b[1;34m\u001b[0m\n\u001b[0;32m      9\u001b[0m \u001b[0msession\u001b[0m \u001b[1;33m=\u001b[0m \u001b[0mcluster\u001b[0m\u001b[1;33m.\u001b[0m\u001b[0mconnect\u001b[0m\u001b[1;33m(\u001b[0m\u001b[1;33m)\u001b[0m\u001b[1;33m\u001b[0m\u001b[1;33m\u001b[0m\u001b[0m\n\u001b[0;32m     10\u001b[0m \u001b[1;33m\u001b[0m\u001b[0m\n\u001b[1;32m---> 11\u001b[1;33m \u001b[0mrow\u001b[0m \u001b[1;33m=\u001b[0m \u001b[0msession\u001b[0m\u001b[1;33m.\u001b[0m\u001b[0mexecute\u001b[0m\u001b[1;33m(\u001b[0m\u001b[1;34m\"CREATE KEYSPACE sudh WITH replication = {'class': 'NetworkTopologyStrategy', 'us-east-1': '3'}  AND durable_writes = true;\"\u001b[0m\u001b[1;33m)\u001b[0m\u001b[1;33m.\u001b[0m\u001b[0mone\u001b[0m\u001b[1;33m(\u001b[0m\u001b[1;33m)\u001b[0m\u001b[1;33m\u001b[0m\u001b[1;33m\u001b[0m\u001b[0m\n\u001b[0m\u001b[0;32m     12\u001b[0m \u001b[1;32mif\u001b[0m \u001b[0mrow\u001b[0m\u001b[1;33m:\u001b[0m\u001b[1;33m\u001b[0m\u001b[1;33m\u001b[0m\u001b[0m\n\u001b[0;32m     13\u001b[0m     \u001b[0mprint\u001b[0m\u001b[1;33m(\u001b[0m\u001b[0mrow\u001b[0m\u001b[1;33m[\u001b[0m\u001b[1;36m0\u001b[0m\u001b[1;33m]\u001b[0m\u001b[1;33m)\u001b[0m\u001b[1;33m\u001b[0m\u001b[1;33m\u001b[0m\u001b[0m\n",
      "\u001b[1;32m~\\anaconda3\\lib\\site-packages\\cassandra\\cluster.cp38-win_amd64.pyd\u001b[0m in \u001b[0;36mcassandra.cluster.Session.execute\u001b[1;34m()\u001b[0m\n",
      "\u001b[1;32m~\\anaconda3\\lib\\site-packages\\cassandra\\cluster.cp38-win_amd64.pyd\u001b[0m in \u001b[0;36mcassandra.cluster.ResponseFuture.result\u001b[1;34m()\u001b[0m\n",
      "\u001b[1;31mUnauthorized\u001b[0m: Error from server: code=2100 [Unauthorized] message=\"Missing correct permission on sudh.\""
     ]
    }
   ],
   "source": [
    "from cassandra.cluster import Cluster\n",
    "from cassandra.auth import PlainTextAuthProvider\n",
    "\n",
    "cloud_config= {\n",
    "        'secure_connect_bundle':r'C:\\Users\\Hp\\Downloads\\secure-connect-kunal96.zip'\n",
    "}\n",
    "auth_provider = PlainTextAuthProvider('FYYmjuEdanoBlDQHxcSSUjhq', 'kn4k6RirOxHm_-q,wBtKZd.eg_4xTm,rE6_2_AMpq2tXrmHo9MFXSP.auoKnMGtJ9K6cTj,WZZjNoW4U.dCPa8ono_r0HZmkF,Q-7NZFtIh4RyqvpHc.SSHcELywTG-W')\n",
    "cluster = Cluster(cloud=cloud_config, auth_provider=auth_provider)\n",
    "session = cluster.connect()\n",
    "\n",
    "row = session.execute(\"CREATE KEYSPACE sudh WITH replication = {'class': 'NetworkTopologyStrategy', 'us-east-1': '3'}  AND durable_writes = true;\").one()\n",
    "if row:\n",
    "    print(row[0])\n",
    "else:\n",
    "    print(\"An error occurred.\")"
   ]
  },
  {
   "cell_type": "code",
   "execution_count": 39,
   "id": "2edf67e3",
   "metadata": {},
   "outputs": [
    {
     "name": "stdout",
     "output_type": "stream",
     "text": [
      "Row(keyspace_name='sudh', durable_writes=True, graph_engine=None, replication=OrderedMapSerializedKey([('class', 'org.apache.cassandra.locator.NetworkTopologyStrategy'), ('us-east-1', '3')]))\n"
     ]
    }
   ],
   "source": [
    "from cassandra.cluster import Cluster\n",
    "from cassandra.auth import PlainTextAuthProvider\n",
    "\n",
    "cloud_config= {\n",
    "        'secure_connect_bundle':r'C:\\Users\\Hp\\Downloads\\secure-connect-kunal96.zip'\n",
    "}\n",
    "auth_provider = PlainTextAuthProvider('FYYmjuEdanoBlDQHxcSSUjhq', 'kn4k6RirOxHm_-q,wBtKZd.eg_4xTm,rE6_2_AMpq2tXrmHo9MFXSP.auoKnMGtJ9K6cTj,WZZjNoW4U.dCPa8ono_r0HZmkF,Q-7NZFtIh4RyqvpHc.SSHcELywTG-W')\n",
    "cluster = Cluster(cloud=cloud_config, auth_provider=auth_provider)\n",
    "session = cluster.connect()\n",
    "\n",
    "row = session.execute(\"SELECT * from system_schema.keyspaces\").one()\n",
    "\n",
    "print(row)"
   ]
  },
  {
   "cell_type": "code",
   "execution_count": 40,
   "id": "9e16b1af",
   "metadata": {},
   "outputs": [
    {
     "ename": "AlreadyExists",
     "evalue": "Table 'sudh.emp' already exists",
     "output_type": "error",
     "traceback": [
      "\u001b[1;31m---------------------------------------------------------------------------\u001b[0m",
      "\u001b[1;31mAlreadyExists\u001b[0m                             Traceback (most recent call last)",
      "\u001b[1;32m<ipython-input-40-5ae40efbd543>\u001b[0m in \u001b[0;36m<module>\u001b[1;34m\u001b[0m\n\u001b[0;32m      9\u001b[0m \u001b[0msession\u001b[0m \u001b[1;33m=\u001b[0m \u001b[0mcluster\u001b[0m\u001b[1;33m.\u001b[0m\u001b[0mconnect\u001b[0m\u001b[1;33m(\u001b[0m\u001b[1;33m)\u001b[0m\u001b[1;33m\u001b[0m\u001b[1;33m\u001b[0m\u001b[0m\n\u001b[0;32m     10\u001b[0m \u001b[1;33m\u001b[0m\u001b[0m\n\u001b[1;32m---> 11\u001b[1;33m \u001b[0mrow\u001b[0m \u001b[1;33m=\u001b[0m \u001b[0msession\u001b[0m\u001b[1;33m.\u001b[0m\u001b[0mexecute\u001b[0m\u001b[1;33m(\u001b[0m\u001b[1;34m\"CREATE TABLE sudh.emp(emp_id int PRIMARY KEY, emp_name text, emp_city text, emp_salary varint, emp_phone varint);\"\u001b[0m\u001b[1;33m)\u001b[0m\u001b[1;33m.\u001b[0m\u001b[0mone\u001b[0m\u001b[1;33m(\u001b[0m\u001b[1;33m)\u001b[0m\u001b[1;33m\u001b[0m\u001b[1;33m\u001b[0m\u001b[0m\n\u001b[0m\u001b[0;32m     12\u001b[0m \u001b[1;33m\u001b[0m\u001b[0m\n\u001b[0;32m     13\u001b[0m \u001b[0mprint\u001b[0m\u001b[1;33m(\u001b[0m\u001b[0mrow\u001b[0m\u001b[1;33m)\u001b[0m\u001b[1;33m\u001b[0m\u001b[1;33m\u001b[0m\u001b[0m\n",
      "\u001b[1;32m~\\anaconda3\\lib\\site-packages\\cassandra\\cluster.cp38-win_amd64.pyd\u001b[0m in \u001b[0;36mcassandra.cluster.Session.execute\u001b[1;34m()\u001b[0m\n",
      "\u001b[1;32m~\\anaconda3\\lib\\site-packages\\cassandra\\cluster.cp38-win_amd64.pyd\u001b[0m in \u001b[0;36mcassandra.cluster.ResponseFuture.result\u001b[1;34m()\u001b[0m\n",
      "\u001b[1;31mAlreadyExists\u001b[0m: Table 'sudh.emp' already exists"
     ]
    }
   ],
   "source": [
    "from cassandra.cluster import Cluster\n",
    "from cassandra.auth import PlainTextAuthProvider\n",
    "\n",
    "cloud_config= {\n",
    "        'secure_connect_bundle':r'C:\\Users\\Hp\\Downloads\\secure-connect-kunal96.zip'\n",
    "}\n",
    "auth_provider = PlainTextAuthProvider('FYYmjuEdanoBlDQHxcSSUjhq', 'kn4k6RirOxHm_-q,wBtKZd.eg_4xTm,rE6_2_AMpq2tXrmHo9MFXSP.auoKnMGtJ9K6cTj,WZZjNoW4U.dCPa8ono_r0HZmkF,Q-7NZFtIh4RyqvpHc.SSHcELywTG-W')\n",
    "cluster = Cluster(cloud=cloud_config, auth_provider=auth_provider)\n",
    "session = cluster.connect()\n",
    "\n",
    "row = session.execute(\"CREATE TABLE sudh.emp(emp_id int PRIMARY KEY, emp_name text, emp_city text, emp_salary varint, emp_phone varint);\").one()\n",
    "\n",
    "print(row)"
   ]
  },
  {
   "cell_type": "code",
   "execution_count": 42,
   "id": "89f1c9a1",
   "metadata": {},
   "outputs": [
    {
     "name": "stdout",
     "output_type": "stream",
     "text": [
      "None\n"
     ]
    }
   ],
   "source": [
    "from cassandra.cluster import Cluster\n",
    "from cassandra.auth import PlainTextAuthProvider\n",
    "\n",
    "cloud_config= {\n",
    "        'secure_connect_bundle':r'C:\\Users\\Hp\\Downloads\\secure-connect-kunal96.zip'\n",
    "}\n",
    "auth_provider = PlainTextAuthProvider('FYYmjuEdanoBlDQHxcSSUjhq', 'kn4k6RirOxHm_-q,wBtKZd.eg_4xTm,rE6_2_AMpq2tXrmHo9MFXSP.auoKnMGtJ9K6cTj,WZZjNoW4U.dCPa8ono_r0HZmkF,Q-7NZFtIh4RyqvpHc.SSHcELywTG-W')\n",
    "cluster = Cluster(cloud=cloud_config, auth_provider=auth_provider)\n",
    "session = cluster.connect()\n",
    "\n",
    "row = session.execute(\"select * from sudh.emp\").one()\n",
    "\n",
    "print(row)"
   ]
  },
  {
   "cell_type": "code",
   "execution_count": 47,
   "id": "37702fbb",
   "metadata": {},
   "outputs": [
    {
     "ename": "SyntaxException",
     "evalue": "<Error from server: code=2000 [Syntax error in CQL query] message=\"line 1:85 no viable alternative at input ',' (..., emp_phone) values(1212, [Kunal],...)\">",
     "output_type": "error",
     "traceback": [
      "\u001b[1;31m---------------------------------------------------------------------------\u001b[0m",
      "\u001b[1;31mSyntaxException\u001b[0m                           Traceback (most recent call last)",
      "\u001b[1;32m<ipython-input-47-14b4f5e03d7c>\u001b[0m in \u001b[0;36m<module>\u001b[1;34m\u001b[0m\n\u001b[0;32m      9\u001b[0m \u001b[0msession\u001b[0m \u001b[1;33m=\u001b[0m \u001b[0mcluster\u001b[0m\u001b[1;33m.\u001b[0m\u001b[0mconnect\u001b[0m\u001b[1;33m(\u001b[0m\u001b[1;33m)\u001b[0m\u001b[1;33m\u001b[0m\u001b[1;33m\u001b[0m\u001b[0m\n\u001b[0;32m     10\u001b[0m \u001b[1;33m\u001b[0m\u001b[0m\n\u001b[1;32m---> 11\u001b[1;33m \u001b[0mrow\u001b[0m \u001b[1;33m=\u001b[0m \u001b[0msession\u001b[0m\u001b[1;33m.\u001b[0m\u001b[0mexecute\u001b[0m\u001b[1;33m(\u001b[0m\u001b[1;34m\"INSERT into emp(emp_id, emp_name, emp_city, emp_salary, emp_phone) values(1212, Kunal, Kanpur, 800000, 9519190500)\"\u001b[0m\u001b[1;33m)\u001b[0m\u001b[1;33m.\u001b[0m\u001b[0mone\u001b[0m\u001b[1;33m(\u001b[0m\u001b[1;33m)\u001b[0m\u001b[1;33m\u001b[0m\u001b[1;33m\u001b[0m\u001b[0m\n\u001b[0m\u001b[0;32m     12\u001b[0m \u001b[1;33m\u001b[0m\u001b[0m\n\u001b[0;32m     13\u001b[0m \u001b[0mprint\u001b[0m\u001b[1;33m(\u001b[0m\u001b[0mrow\u001b[0m\u001b[1;33m)\u001b[0m\u001b[1;33m\u001b[0m\u001b[1;33m\u001b[0m\u001b[0m\n",
      "\u001b[1;32m~\\anaconda3\\lib\\site-packages\\cassandra\\cluster.cp38-win_amd64.pyd\u001b[0m in \u001b[0;36mcassandra.cluster.Session.execute\u001b[1;34m()\u001b[0m\n",
      "\u001b[1;32m~\\anaconda3\\lib\\site-packages\\cassandra\\cluster.cp38-win_amd64.pyd\u001b[0m in \u001b[0;36mcassandra.cluster.ResponseFuture.result\u001b[1;34m()\u001b[0m\n",
      "\u001b[1;31mSyntaxException\u001b[0m: <Error from server: code=2000 [Syntax error in CQL query] message=\"line 1:85 no viable alternative at input ',' (..., emp_phone) values(1212, [Kunal],...)\">"
     ]
    }
   ],
   "source": [
    "from cassandra.cluster import Cluster\n",
    "from cassandra.auth import PlainTextAuthProvider\n",
    "\n",
    "cloud_config= {\n",
    "        'secure_connect_bundle':r'C:\\Users\\Hp\\Downloads\\secure-connect-kunal96.zip'\n",
    "}\n",
    "auth_provider = PlainTextAuthProvider('FYYmjuEdanoBlDQHxcSSUjhq', 'kn4k6RirOxHm_-q,wBtKZd.eg_4xTm,rE6_2_AMpq2tXrmHo9MFXSP.auoKnMGtJ9K6cTj,WZZjNoW4U.dCPa8ono_r0HZmkF,Q-7NZFtIh4RyqvpHc.SSHcELywTG-W')\n",
    "cluster = Cluster(cloud=cloud_config, auth_provider=auth_provider)\n",
    "session = cluster.connect()\n",
    "\n",
    "row = session.execute(\"INSERT into emp(emp_id, emp_name, emp_city, emp_salary, emp_phone) values(1212, Kunal, Kanpur, 800000, 9519190500)\").one()\n",
    "\n",
    "print(row)"
   ]
  },
  {
   "cell_type": "code",
   "execution_count": 49,
   "id": "2c1a5da6",
   "metadata": {},
   "outputs": [
    {
     "name": "stdout",
     "output_type": "stream",
     "text": [
      "None\n"
     ]
    }
   ],
   "source": [
    "from cassandra.cluster import Cluster\n",
    "from cassandra.auth import PlainTextAuthProvider\n",
    "\n",
    "cloud_config= {\n",
    "        'secure_connect_bundle':r'C:\\Users\\Hp\\Downloads\\secure-connect-kunal96.zip'\n",
    "}\n",
    "auth_provider = PlainTextAuthProvider('FYYmjuEdanoBlDQHxcSSUjhq', 'kn4k6RirOxHm_-q,wBtKZd.eg_4xTm,rE6_2_AMpq2tXrmHo9MFXSP.auoKnMGtJ9K6cTj,WZZjNoW4U.dCPa8ono_r0HZmkF,Q-7NZFtIh4RyqvpHc.SSHcELywTG-W')\n",
    "cluster = Cluster(cloud=cloud_config, auth_provider=auth_provider)\n",
    "session = cluster.connect()\n",
    "\n",
    "row = session.execute(\"CREATE TABLE sudh.emp1(emp_id int PRIMARY KEY, emp_salary varint);\").one()\n",
    "\n",
    "print(row)"
   ]
  },
  {
   "cell_type": "code",
   "execution_count": 50,
   "id": "a3d4909f",
   "metadata": {},
   "outputs": [
    {
     "name": "stdout",
     "output_type": "stream",
     "text": [
      "None\n"
     ]
    }
   ],
   "source": [
    "from cassandra.cluster import Cluster\n",
    "from cassandra.auth import PlainTextAuthProvider\n",
    "\n",
    "cloud_config= {\n",
    "        'secure_connect_bundle':r'C:\\Users\\Hp\\Downloads\\secure-connect-kunal96.zip'\n",
    "}\n",
    "auth_provider = PlainTextAuthProvider('FYYmjuEdanoBlDQHxcSSUjhq', 'kn4k6RirOxHm_-q,wBtKZd.eg_4xTm,rE6_2_AMpq2tXrmHo9MFXSP.auoKnMGtJ9K6cTj,WZZjNoW4U.dCPa8ono_r0HZmkF,Q-7NZFtIh4RyqvpHc.SSHcELywTG-W')\n",
    "cluster = Cluster(cloud=cloud_config, auth_provider=auth_provider)\n",
    "session = cluster.connect()\n",
    "\n",
    "row = session.execute(\"select * from sudh.emp1\").one()\n",
    "\n",
    "print(row)"
   ]
  },
  {
   "cell_type": "code",
   "execution_count": 52,
   "id": "05c76c0d",
   "metadata": {},
   "outputs": [
    {
     "name": "stdout",
     "output_type": "stream",
     "text": [
      "None\n"
     ]
    }
   ],
   "source": [
    "from cassandra.cluster import Cluster\n",
    "from cassandra.auth import PlainTextAuthProvider\n",
    "\n",
    "cloud_config= {\n",
    "        'secure_connect_bundle':r'C:\\Users\\Hp\\Downloads\\secure-connect-kunal96.zip'\n",
    "}\n",
    "auth_provider = PlainTextAuthProvider('FYYmjuEdanoBlDQHxcSSUjhq', 'kn4k6RirOxHm_-q,wBtKZd.eg_4xTm,rE6_2_AMpq2tXrmHo9MFXSP.auoKnMGtJ9K6cTj,WZZjNoW4U.dCPa8ono_r0HZmkF,Q-7NZFtIh4RyqvpHc.SSHcELywTG-W')\n",
    "cluster = Cluster(cloud=cloud_config, auth_provider=auth_provider)\n",
    "session = cluster.connect()\n",
    "\n",
    "row = session.execute(\"INSERT into sudh.emp1(emp_id, emp_salary) values(23, 222222)\").one()\n",
    "\n",
    "print(row)"
   ]
  },
  {
   "cell_type": "code",
   "execution_count": 53,
   "id": "1067e014",
   "metadata": {},
   "outputs": [
    {
     "name": "stdout",
     "output_type": "stream",
     "text": [
      "Row(emp_id=23, emp_salary=222222)\n"
     ]
    }
   ],
   "source": [
    "from cassandra.cluster import Cluster\n",
    "from cassandra.auth import PlainTextAuthProvider\n",
    "\n",
    "cloud_config= {\n",
    "        'secure_connect_bundle':r'C:\\Users\\Hp\\Downloads\\secure-connect-kunal96.zip'\n",
    "}\n",
    "auth_provider = PlainTextAuthProvider('FYYmjuEdanoBlDQHxcSSUjhq', 'kn4k6RirOxHm_-q,wBtKZd.eg_4xTm,rE6_2_AMpq2tXrmHo9MFXSP.auoKnMGtJ9K6cTj,WZZjNoW4U.dCPa8ono_r0HZmkF,Q-7NZFtIh4RyqvpHc.SSHcELywTG-W')\n",
    "cluster = Cluster(cloud=cloud_config, auth_provider=auth_provider)\n",
    "session = cluster.connect()\n",
    "\n",
    "row = session.execute(\"select * from sudh.emp1\").one()\n",
    "\n",
    "print(row)"
   ]
  },
  {
   "cell_type": "markdown",
   "id": "3df0046f",
   "metadata": {},
   "source": [
    "# Now again I have inserted the data inside the sudh keyspace in table sudh by using CQL"
   ]
  },
  {
   "cell_type": "code",
   "execution_count": 58,
   "id": "6cdd51ff",
   "metadata": {},
   "outputs": [
    {
     "name": "stdout",
     "output_type": "stream",
     "text": [
      "Row(emp_id=23, emp_salary=222222)\n"
     ]
    }
   ],
   "source": [
    "from cassandra.cluster import Cluster\n",
    "from cassandra.auth import PlainTextAuthProvider\n",
    "\n",
    "cloud_config= {\n",
    "        'secure_connect_bundle':r'C:\\Users\\Hp\\Downloads\\secure-connect-kunal96.zip'\n",
    "}\n",
    "auth_provider = PlainTextAuthProvider('FYYmjuEdanoBlDQHxcSSUjhq', 'kn4k6RirOxHm_-q,wBtKZd.eg_4xTm,rE6_2_AMpq2tXrmHo9MFXSP.auoKnMGtJ9K6cTj,WZZjNoW4U.dCPa8ono_r0HZmkF,Q-7NZFtIh4RyqvpHc.SSHcELywTG-W')\n",
    "cluster = Cluster(cloud=cloud_config, auth_provider=auth_provider)\n",
    "session = cluster.connect()\n",
    "\n",
    "row = session.execute(\"select * from sudh.emp1\").one()\n",
    "\n",
    "print(row)"
   ]
  },
  {
   "cell_type": "code",
   "execution_count": 59,
   "id": "d971ad4a",
   "metadata": {},
   "outputs": [
    {
     "name": "stdout",
     "output_type": "stream",
     "text": [
      "None\n"
     ]
    }
   ],
   "source": [
    "from cassandra.cluster import Cluster\n",
    "from cassandra.auth import PlainTextAuthProvider\n",
    "\n",
    "cloud_config= {\n",
    "        'secure_connect_bundle':r'C:\\Users\\Hp\\Downloads\\secure-connect-kunal96.zip'\n",
    "}\n",
    "auth_provider = PlainTextAuthProvider('FYYmjuEdanoBlDQHxcSSUjhq', 'kn4k6RirOxHm_-q,wBtKZd.eg_4xTm,rE6_2_AMpq2tXrmHo9MFXSP.auoKnMGtJ9K6cTj,WZZjNoW4U.dCPa8ono_r0HZmkF,Q-7NZFtIh4RyqvpHc.SSHcELywTG-W')\n",
    "cluster = Cluster(cloud=cloud_config, auth_provider=auth_provider)\n",
    "session = cluster.connect()\n",
    "\n",
    "row = session.execute(\"INSERT into sudh.emp1(emp_id, emp_salary) values(25, 222222)\").one()\n",
    "\n",
    "print(row)"
   ]
  },
  {
   "cell_type": "code",
   "execution_count": 62,
   "id": "f388d956",
   "metadata": {},
   "outputs": [
    {
     "data": {
      "text/plain": [
       "[Row(emp_id=23, emp_salary=222222),\n",
       " Row(emp_id=24, emp_salary=3434343),\n",
       " Row(emp_id=25, emp_salary=222222)]"
      ]
     },
     "execution_count": 62,
     "metadata": {},
     "output_type": "execute_result"
    }
   ],
   "source": [
    "from cassandra.cluster import Cluster\n",
    "from cassandra.auth import PlainTextAuthProvider\n",
    "\n",
    "cloud_config= {\n",
    "        'secure_connect_bundle':r'C:\\Users\\Hp\\Downloads\\secure-connect-kunal96.zip'\n",
    "}\n",
    "auth_provider = PlainTextAuthProvider('FYYmjuEdanoBlDQHxcSSUjhq', 'kn4k6RirOxHm_-q,wBtKZd.eg_4xTm,rE6_2_AMpq2tXrmHo9MFXSP.auoKnMGtJ9K6cTj,WZZjNoW4U.dCPa8ono_r0HZmkF,Q-7NZFtIh4RyqvpHc.SSHcELywTG-W')\n",
    "cluster = Cluster(cloud=cloud_config, auth_provider=auth_provider)\n",
    "session = cluster.connect()\n",
    "\n",
    "row = session.execute(\"select * from sudh.emp1\").all()\n",
    "\n",
    "row"
   ]
  },
  {
   "cell_type": "code",
   "execution_count": null,
   "id": "de5dc3b6",
   "metadata": {},
   "outputs": [],
   "source": []
  }
 ],
 "metadata": {
  "kernelspec": {
   "display_name": "Python 3",
   "language": "python",
   "name": "python3"
  },
  "language_info": {
   "codemirror_mode": {
    "name": "ipython",
    "version": 3
   },
   "file_extension": ".py",
   "mimetype": "text/x-python",
   "name": "python",
   "nbconvert_exporter": "python",
   "pygments_lexer": "ipython3",
   "version": "3.8.8"
  }
 },
 "nbformat": 4,
 "nbformat_minor": 5
}
