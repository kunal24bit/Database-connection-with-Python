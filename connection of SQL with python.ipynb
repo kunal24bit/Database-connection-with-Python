{
 "cells": [
  {
   "cell_type": "code",
   "execution_count": 3,
   "id": "092ec776",
   "metadata": {},
   "outputs": [
    {
     "name": "stdout",
     "output_type": "stream",
     "text": [
      "Requirement already satisfied: mysql-connector-python in c:\\users\\hp\\anaconda3\\lib\\site-packages (8.0.26)\n",
      "Collecting protobuf>=3.0.0\n",
      "  Downloading protobuf-3.17.3-cp38-cp38-win_amd64.whl (909 kB)\n",
      "Requirement already satisfied: six>=1.9 in c:\\users\\hp\\anaconda3\\lib\\site-packages (from protobuf>=3.0.0->mysql-connector-python) (1.15.0)\n",
      "Installing collected packages: protobuf\n",
      "Successfully installed protobuf-3.17.3\n"
     ]
    }
   ],
   "source": [
    "!pip install mysql-connector-python"
   ]
  },
  {
   "cell_type": "code",
   "execution_count": 9,
   "id": "5b14751d",
   "metadata": {},
   "outputs": [],
   "source": [
    "import mysql.connector as connection\n",
    "\n",
    "try:\n",
    "    mydb = connection.connect(host=\"localhost\",user=\"root\", passwd=\"WXpPa1mf^&*\",use_pure=True)#to make a connection from database\n",
    "    # check if the connection is established\n",
    "\n",
    "    query = \"SHOW DATABASES\"\n",
    "\n",
    "    cursor = mydb.cursor() #create a cursor to execute queries\n",
    "    cursor.execute(query)\n",
    "    #print(cursor.fetchall())\n",
    "\n",
    "except Exception as e:\n",
    "    mydb.close()\n",
    "    print(str(e))"
   ]
  },
  {
   "cell_type": "code",
   "execution_count": 30,
   "id": "df0708af",
   "metadata": {},
   "outputs": [],
   "source": [
    "import mysql.connector as connection"
   ]
  },
  {
   "cell_type": "code",
   "execution_count": 31,
   "id": "729d4ae8",
   "metadata": {},
   "outputs": [],
   "source": [
    "conn = connection.connect(host=\"localhost\",user=\"root\", passwd=\"WXpPa1mf^&*\",use_pure=True)"
   ]
  },
  {
   "cell_type": "code",
   "execution_count": 32,
   "id": "d75cebe2",
   "metadata": {},
   "outputs": [],
   "source": [
    "cur = conn.cursor()"
   ]
  },
  {
   "cell_type": "code",
   "execution_count": 33,
   "id": "7f727458",
   "metadata": {},
   "outputs": [],
   "source": [
    "cur.execute(\"show databases\")"
   ]
  },
  {
   "cell_type": "code",
   "execution_count": 34,
   "id": "f1e08c6f",
   "metadata": {},
   "outputs": [],
   "source": [
    "res = cur.fetchall()"
   ]
  },
  {
   "cell_type": "code",
   "execution_count": 35,
   "id": "77ab69ec",
   "metadata": {},
   "outputs": [
    {
     "data": {
      "text/plain": [
       "[('information_schema',),\n",
       " ('mysql',),\n",
       " ('performance_schema',),\n",
       " ('sakila',),\n",
       " ('sys',),\n",
       " ('world',)]"
      ]
     },
     "execution_count": 35,
     "metadata": {},
     "output_type": "execute_result"
    }
   ],
   "source": [
    "res"
   ]
  },
  {
   "cell_type": "code",
   "execution_count": 43,
   "id": "e3ab66ec",
   "metadata": {},
   "outputs": [
    {
     "name": "stdout",
     "output_type": "stream",
     "text": [
      "information_schema\n",
      "mysql\n",
      "performance_schema\n",
      "sakila\n",
      "sys\n",
      "world\n"
     ]
    }
   ],
   "source": [
    "for i in res:\n",
    "    print(i[0])"
   ]
  },
  {
   "cell_type": "code",
   "execution_count": 44,
   "id": "c676adc4",
   "metadata": {},
   "outputs": [],
   "source": [
    "#Creating a new data base"
   ]
  },
  {
   "cell_type": "code",
   "execution_count": 79,
   "id": "2386d542",
   "metadata": {},
   "outputs": [
    {
     "ename": "DatabaseError",
     "evalue": "1007 (HY000): Can't create database 'kunal23456'; database exists",
     "output_type": "error",
     "traceback": [
      "\u001b[1;31m---------------------------------------------------------------------------\u001b[0m",
      "\u001b[1;31mDatabaseError\u001b[0m                             Traceback (most recent call last)",
      "\u001b[1;32m<ipython-input-79-2470d400306f>\u001b[0m in \u001b[0;36m<module>\u001b[1;34m\u001b[0m\n\u001b[0;32m      4\u001b[0m \u001b[0mcur1\u001b[0m \u001b[1;33m=\u001b[0m \u001b[0mconn1\u001b[0m\u001b[1;33m.\u001b[0m\u001b[0mcursor\u001b[0m\u001b[1;33m(\u001b[0m\u001b[1;33m)\u001b[0m\u001b[1;33m\u001b[0m\u001b[1;33m\u001b[0m\u001b[0m\n\u001b[0;32m      5\u001b[0m \u001b[1;33m\u001b[0m\u001b[0m\n\u001b[1;32m----> 6\u001b[1;33m \u001b[0mcur1\u001b[0m\u001b[1;33m.\u001b[0m\u001b[0mexecute\u001b[0m\u001b[1;33m(\u001b[0m\u001b[1;34m\"create database kunal23456\"\u001b[0m\u001b[1;33m)\u001b[0m\u001b[1;33m\u001b[0m\u001b[1;33m\u001b[0m\u001b[0m\n\u001b[0m\u001b[0;32m      7\u001b[0m \u001b[1;33m\u001b[0m\u001b[0m\n\u001b[0;32m      8\u001b[0m \u001b[1;31m#Alreday created that is why this mistake\u001b[0m\u001b[1;33m\u001b[0m\u001b[1;33m\u001b[0m\u001b[1;33m\u001b[0m\u001b[0m\n",
      "\u001b[1;32m~\\anaconda3\\lib\\site-packages\\mysql\\connector\\cursor.py\u001b[0m in \u001b[0;36mexecute\u001b[1;34m(self, operation, params, multi)\u001b[0m\n\u001b[0;32m    566\u001b[0m \u001b[1;33m\u001b[0m\u001b[0m\n\u001b[0;32m    567\u001b[0m         \u001b[1;32mtry\u001b[0m\u001b[1;33m:\u001b[0m\u001b[1;33m\u001b[0m\u001b[1;33m\u001b[0m\u001b[0m\n\u001b[1;32m--> 568\u001b[1;33m             \u001b[0mself\u001b[0m\u001b[1;33m.\u001b[0m\u001b[0m_handle_result\u001b[0m\u001b[1;33m(\u001b[0m\u001b[0mself\u001b[0m\u001b[1;33m.\u001b[0m\u001b[0m_connection\u001b[0m\u001b[1;33m.\u001b[0m\u001b[0mcmd_query\u001b[0m\u001b[1;33m(\u001b[0m\u001b[0mstmt\u001b[0m\u001b[1;33m)\u001b[0m\u001b[1;33m)\u001b[0m\u001b[1;33m\u001b[0m\u001b[1;33m\u001b[0m\u001b[0m\n\u001b[0m\u001b[0;32m    569\u001b[0m         \u001b[1;32mexcept\u001b[0m \u001b[0merrors\u001b[0m\u001b[1;33m.\u001b[0m\u001b[0mInterfaceError\u001b[0m\u001b[1;33m:\u001b[0m\u001b[1;33m\u001b[0m\u001b[1;33m\u001b[0m\u001b[0m\n\u001b[0;32m    570\u001b[0m             \u001b[1;32mif\u001b[0m \u001b[0mself\u001b[0m\u001b[1;33m.\u001b[0m\u001b[0m_connection\u001b[0m\u001b[1;33m.\u001b[0m\u001b[0m_have_next_result\u001b[0m\u001b[1;33m:\u001b[0m  \u001b[1;31m# pylint: disable=W0212\u001b[0m\u001b[1;33m\u001b[0m\u001b[1;33m\u001b[0m\u001b[0m\n",
      "\u001b[1;32m~\\anaconda3\\lib\\site-packages\\mysql\\connector\\connection.py\u001b[0m in \u001b[0;36mcmd_query\u001b[1;34m(self, query, raw, buffered, raw_as_string)\u001b[0m\n\u001b[0;32m    844\u001b[0m         \u001b[0mquery\u001b[0m \u001b[1;33m=\u001b[0m \u001b[0mbytes\u001b[0m\u001b[1;33m(\u001b[0m\u001b[0mpacket\u001b[0m\u001b[1;33m)\u001b[0m\u001b[1;33m\u001b[0m\u001b[1;33m\u001b[0m\u001b[0m\n\u001b[0;32m    845\u001b[0m         \u001b[1;32mtry\u001b[0m\u001b[1;33m:\u001b[0m\u001b[1;33m\u001b[0m\u001b[1;33m\u001b[0m\u001b[0m\n\u001b[1;32m--> 846\u001b[1;33m             \u001b[0mresult\u001b[0m \u001b[1;33m=\u001b[0m \u001b[0mself\u001b[0m\u001b[1;33m.\u001b[0m\u001b[0m_handle_result\u001b[0m\u001b[1;33m(\u001b[0m\u001b[0mself\u001b[0m\u001b[1;33m.\u001b[0m\u001b[0m_send_cmd\u001b[0m\u001b[1;33m(\u001b[0m\u001b[0mServerCmd\u001b[0m\u001b[1;33m.\u001b[0m\u001b[0mQUERY\u001b[0m\u001b[1;33m,\u001b[0m \u001b[0mquery\u001b[0m\u001b[1;33m)\u001b[0m\u001b[1;33m)\u001b[0m\u001b[1;33m\u001b[0m\u001b[1;33m\u001b[0m\u001b[0m\n\u001b[0m\u001b[0;32m    847\u001b[0m         \u001b[1;32mexcept\u001b[0m \u001b[0merrors\u001b[0m\u001b[1;33m.\u001b[0m\u001b[0mProgrammingError\u001b[0m \u001b[1;32mas\u001b[0m \u001b[0merr\u001b[0m\u001b[1;33m:\u001b[0m\u001b[1;33m\u001b[0m\u001b[1;33m\u001b[0m\u001b[0m\n\u001b[0;32m    848\u001b[0m             \u001b[1;32mif\u001b[0m \u001b[0merr\u001b[0m\u001b[1;33m.\u001b[0m\u001b[0merrno\u001b[0m \u001b[1;33m==\u001b[0m \u001b[1;36m3948\u001b[0m \u001b[1;32mand\u001b[0m\u001b[0;31m \u001b[0m\u001b[0;31m\\\u001b[0m\u001b[1;33m\u001b[0m\u001b[1;33m\u001b[0m\u001b[0m\n",
      "\u001b[1;32m~\\anaconda3\\lib\\site-packages\\mysql\\connector\\connection.py\u001b[0m in \u001b[0;36m_handle_result\u001b[1;34m(self, packet)\u001b[0m\n\u001b[0;32m    654\u001b[0m             \u001b[1;32mreturn\u001b[0m \u001b[0mself\u001b[0m\u001b[1;33m.\u001b[0m\u001b[0m_handle_eof\u001b[0m\u001b[1;33m(\u001b[0m\u001b[0mpacket\u001b[0m\u001b[1;33m)\u001b[0m\u001b[1;33m\u001b[0m\u001b[1;33m\u001b[0m\u001b[0m\n\u001b[0;32m    655\u001b[0m         \u001b[1;32melif\u001b[0m \u001b[0mpacket\u001b[0m\u001b[1;33m[\u001b[0m\u001b[1;36m4\u001b[0m\u001b[1;33m]\u001b[0m \u001b[1;33m==\u001b[0m \u001b[1;36m255\u001b[0m\u001b[1;33m:\u001b[0m\u001b[1;33m\u001b[0m\u001b[1;33m\u001b[0m\u001b[0m\n\u001b[1;32m--> 656\u001b[1;33m             \u001b[1;32mraise\u001b[0m \u001b[0merrors\u001b[0m\u001b[1;33m.\u001b[0m\u001b[0mget_exception\u001b[0m\u001b[1;33m(\u001b[0m\u001b[0mpacket\u001b[0m\u001b[1;33m)\u001b[0m\u001b[1;33m\u001b[0m\u001b[1;33m\u001b[0m\u001b[0m\n\u001b[0m\u001b[0;32m    657\u001b[0m \u001b[1;33m\u001b[0m\u001b[0m\n\u001b[0;32m    658\u001b[0m         \u001b[1;31m# We have a text result set\u001b[0m\u001b[1;33m\u001b[0m\u001b[1;33m\u001b[0m\u001b[1;33m\u001b[0m\u001b[0m\n",
      "\u001b[1;31mDatabaseError\u001b[0m: 1007 (HY000): Can't create database 'kunal23456'; database exists"
     ]
    }
   ],
   "source": [
    "import mysql.connector as connection\n",
    "conn1 = connection.connect(host=\"localhost\",user=\"root\", passwd=\"WXpPa1mf^&*\",use_pure=True)\n",
    "\n",
    "cur1 = conn1.cursor()\n",
    "\n",
    "cur1.execute(\"create database kunal23456\")\n",
    "\n",
    "#Alreday created that is why this mistake"
   ]
  },
  {
   "cell_type": "code",
   "execution_count": 80,
   "id": "23efcf66",
   "metadata": {},
   "outputs": [],
   "source": [
    "cur1.execute(\"show databases\")"
   ]
  },
  {
   "cell_type": "code",
   "execution_count": 81,
   "id": "f42132dd",
   "metadata": {},
   "outputs": [
    {
     "data": {
      "text/plain": [
       "[('information_schema',),\n",
       " ('kunal',),\n",
       " ('kunal234',),\n",
       " ('kunal2345',),\n",
       " ('kunal23456',),\n",
       " ('mysql',),\n",
       " ('performance_schema',),\n",
       " ('sakila',),\n",
       " ('sys',),\n",
       " ('world',)]"
      ]
     },
     "execution_count": 81,
     "metadata": {},
     "output_type": "execute_result"
    }
   ],
   "source": [
    "cur1.fetchall()"
   ]
  },
  {
   "cell_type": "code",
   "execution_count": 84,
   "id": "500a9334",
   "metadata": {},
   "outputs": [],
   "source": [
    "import mysql.connector as connection\n",
    "\n",
    "try:\n",
    "    mydb1 = connection.connect(host=\"localhost\",user=\"root\", passwd=\"WXpPa1mf^&*\",use_pure=True)#to make a connection from database\n",
    "    # check if the connection is established\n",
    "\n",
    "    query = \"CREATE DATABASE STUDENT\"\n",
    "\n",
    "    cursor = mydb1.cursor() #create a cursor to execute queries\n",
    "    cursor.execute(query)\n",
    "    #print(cursor.fetchall())\n",
    "\n",
    "except Exception as e:\n",
    "    mydb.close()\n",
    "    print(str(e))"
   ]
  },
  {
   "cell_type": "code",
   "execution_count": 86,
   "id": "a8c75ec3",
   "metadata": {},
   "outputs": [],
   "source": [
    "import mysql.connector as connection\n",
    "\n",
    "mydb1 = connection.connect(host = \"localhost\", database = \"STUDENT\", user = \"root\", passwd = \"WXpPa1mf^&*\", use_pure = True)\n",
    "  "
   ]
  },
  {
   "cell_type": "code",
   "execution_count": 87,
   "id": "1e992f0a",
   "metadata": {},
   "outputs": [
    {
     "data": {
      "text/plain": [
       "True"
      ]
     },
     "execution_count": 87,
     "metadata": {},
     "output_type": "execute_result"
    }
   ],
   "source": [
    "mydb1.is_connected()"
   ]
  },
  {
   "cell_type": "code",
   "execution_count": 90,
   "id": "d93d66c2",
   "metadata": {},
   "outputs": [],
   "source": [
    "cur = mydb1.cursor()"
   ]
  },
  {
   "cell_type": "code",
   "execution_count": 112,
   "id": "99c1f546",
   "metadata": {},
   "outputs": [
    {
     "ename": "ProgrammingError",
     "evalue": "1050 (42S01): Table 'test' already exists",
     "output_type": "error",
     "traceback": [
      "\u001b[1;31m---------------------------------------------------------------------------\u001b[0m",
      "\u001b[1;31mProgrammingError\u001b[0m                          Traceback (most recent call last)",
      "\u001b[1;32m<ipython-input-112-1bd2bd462b56>\u001b[0m in \u001b[0;36m<module>\u001b[1;34m\u001b[0m\n\u001b[1;32m----> 1\u001b[1;33m \u001b[0mcur\u001b[0m\u001b[1;33m.\u001b[0m\u001b[0mexecute\u001b[0m\u001b[1;33m(\u001b[0m\u001b[1;34m\"CREATE TABLE test(x1 INT(5), x2 VARCHAR(20), x3 DATE)\"\u001b[0m\u001b[1;33m)\u001b[0m\u001b[1;33m\u001b[0m\u001b[1;33m\u001b[0m\u001b[0m\n\u001b[0m",
      "\u001b[1;32m~\\anaconda3\\lib\\site-packages\\mysql\\connector\\cursor.py\u001b[0m in \u001b[0;36mexecute\u001b[1;34m(self, operation, params, multi)\u001b[0m\n\u001b[0;32m    566\u001b[0m \u001b[1;33m\u001b[0m\u001b[0m\n\u001b[0;32m    567\u001b[0m         \u001b[1;32mtry\u001b[0m\u001b[1;33m:\u001b[0m\u001b[1;33m\u001b[0m\u001b[1;33m\u001b[0m\u001b[0m\n\u001b[1;32m--> 568\u001b[1;33m             \u001b[0mself\u001b[0m\u001b[1;33m.\u001b[0m\u001b[0m_handle_result\u001b[0m\u001b[1;33m(\u001b[0m\u001b[0mself\u001b[0m\u001b[1;33m.\u001b[0m\u001b[0m_connection\u001b[0m\u001b[1;33m.\u001b[0m\u001b[0mcmd_query\u001b[0m\u001b[1;33m(\u001b[0m\u001b[0mstmt\u001b[0m\u001b[1;33m)\u001b[0m\u001b[1;33m)\u001b[0m\u001b[1;33m\u001b[0m\u001b[1;33m\u001b[0m\u001b[0m\n\u001b[0m\u001b[0;32m    569\u001b[0m         \u001b[1;32mexcept\u001b[0m \u001b[0merrors\u001b[0m\u001b[1;33m.\u001b[0m\u001b[0mInterfaceError\u001b[0m\u001b[1;33m:\u001b[0m\u001b[1;33m\u001b[0m\u001b[1;33m\u001b[0m\u001b[0m\n\u001b[0;32m    570\u001b[0m             \u001b[1;32mif\u001b[0m \u001b[0mself\u001b[0m\u001b[1;33m.\u001b[0m\u001b[0m_connection\u001b[0m\u001b[1;33m.\u001b[0m\u001b[0m_have_next_result\u001b[0m\u001b[1;33m:\u001b[0m  \u001b[1;31m# pylint: disable=W0212\u001b[0m\u001b[1;33m\u001b[0m\u001b[1;33m\u001b[0m\u001b[0m\n",
      "\u001b[1;32m~\\anaconda3\\lib\\site-packages\\mysql\\connector\\connection.py\u001b[0m in \u001b[0;36mcmd_query\u001b[1;34m(self, query, raw, buffered, raw_as_string)\u001b[0m\n\u001b[0;32m    844\u001b[0m         \u001b[0mquery\u001b[0m \u001b[1;33m=\u001b[0m \u001b[0mbytes\u001b[0m\u001b[1;33m(\u001b[0m\u001b[0mpacket\u001b[0m\u001b[1;33m)\u001b[0m\u001b[1;33m\u001b[0m\u001b[1;33m\u001b[0m\u001b[0m\n\u001b[0;32m    845\u001b[0m         \u001b[1;32mtry\u001b[0m\u001b[1;33m:\u001b[0m\u001b[1;33m\u001b[0m\u001b[1;33m\u001b[0m\u001b[0m\n\u001b[1;32m--> 846\u001b[1;33m             \u001b[0mresult\u001b[0m \u001b[1;33m=\u001b[0m \u001b[0mself\u001b[0m\u001b[1;33m.\u001b[0m\u001b[0m_handle_result\u001b[0m\u001b[1;33m(\u001b[0m\u001b[0mself\u001b[0m\u001b[1;33m.\u001b[0m\u001b[0m_send_cmd\u001b[0m\u001b[1;33m(\u001b[0m\u001b[0mServerCmd\u001b[0m\u001b[1;33m.\u001b[0m\u001b[0mQUERY\u001b[0m\u001b[1;33m,\u001b[0m \u001b[0mquery\u001b[0m\u001b[1;33m)\u001b[0m\u001b[1;33m)\u001b[0m\u001b[1;33m\u001b[0m\u001b[1;33m\u001b[0m\u001b[0m\n\u001b[0m\u001b[0;32m    847\u001b[0m         \u001b[1;32mexcept\u001b[0m \u001b[0merrors\u001b[0m\u001b[1;33m.\u001b[0m\u001b[0mProgrammingError\u001b[0m \u001b[1;32mas\u001b[0m \u001b[0merr\u001b[0m\u001b[1;33m:\u001b[0m\u001b[1;33m\u001b[0m\u001b[1;33m\u001b[0m\u001b[0m\n\u001b[0;32m    848\u001b[0m             \u001b[1;32mif\u001b[0m \u001b[0merr\u001b[0m\u001b[1;33m.\u001b[0m\u001b[0merrno\u001b[0m \u001b[1;33m==\u001b[0m \u001b[1;36m3948\u001b[0m \u001b[1;32mand\u001b[0m\u001b[0;31m \u001b[0m\u001b[0;31m\\\u001b[0m\u001b[1;33m\u001b[0m\u001b[1;33m\u001b[0m\u001b[0m\n",
      "\u001b[1;32m~\\anaconda3\\lib\\site-packages\\mysql\\connector\\connection.py\u001b[0m in \u001b[0;36m_handle_result\u001b[1;34m(self, packet)\u001b[0m\n\u001b[0;32m    654\u001b[0m             \u001b[1;32mreturn\u001b[0m \u001b[0mself\u001b[0m\u001b[1;33m.\u001b[0m\u001b[0m_handle_eof\u001b[0m\u001b[1;33m(\u001b[0m\u001b[0mpacket\u001b[0m\u001b[1;33m)\u001b[0m\u001b[1;33m\u001b[0m\u001b[1;33m\u001b[0m\u001b[0m\n\u001b[0;32m    655\u001b[0m         \u001b[1;32melif\u001b[0m \u001b[0mpacket\u001b[0m\u001b[1;33m[\u001b[0m\u001b[1;36m4\u001b[0m\u001b[1;33m]\u001b[0m \u001b[1;33m==\u001b[0m \u001b[1;36m255\u001b[0m\u001b[1;33m:\u001b[0m\u001b[1;33m\u001b[0m\u001b[1;33m\u001b[0m\u001b[0m\n\u001b[1;32m--> 656\u001b[1;33m             \u001b[1;32mraise\u001b[0m \u001b[0merrors\u001b[0m\u001b[1;33m.\u001b[0m\u001b[0mget_exception\u001b[0m\u001b[1;33m(\u001b[0m\u001b[0mpacket\u001b[0m\u001b[1;33m)\u001b[0m\u001b[1;33m\u001b[0m\u001b[1;33m\u001b[0m\u001b[0m\n\u001b[0m\u001b[0;32m    657\u001b[0m \u001b[1;33m\u001b[0m\u001b[0m\n\u001b[0;32m    658\u001b[0m         \u001b[1;31m# We have a text result set\u001b[0m\u001b[1;33m\u001b[0m\u001b[1;33m\u001b[0m\u001b[1;33m\u001b[0m\u001b[0m\n",
      "\u001b[1;31mProgrammingError\u001b[0m: 1050 (42S01): Table 'test' already exists"
     ]
    }
   ],
   "source": [
    "cur.execute(\"CREATE TABLE test(x1 INT(5), x2 VARCHAR(20), x3 DATE)\")"
   ]
  },
  {
   "cell_type": "code",
   "execution_count": 115,
   "id": "eb7aac47",
   "metadata": {},
   "outputs": [],
   "source": [
    "cur.execute(\"INSERT INTO test values(5656, 'kunal', '2021-08-15')\")#yyyy-mm-dd"
   ]
  },
  {
   "cell_type": "code",
   "execution_count": 116,
   "id": "ab3788eb",
   "metadata": {},
   "outputs": [],
   "source": [
    "mydb1.commit()"
   ]
  },
  {
   "cell_type": "code",
   "execution_count": 117,
   "id": "dcafa891",
   "metadata": {},
   "outputs": [],
   "source": [
    "cur.execute(\"INSERT INTO test values(5656, 'kunal', '2021-08-15')\")\n",
    "cur.execute(\"INSERT INTO test values(5657, 'sid', '2021-08-15')\")\n",
    "cur.execute(\"INSERT INTO test values(5658, 'umesh', '2021-08-15')\")\n",
    "cur.execute(\"INSERT INTO test values(5659, 'bhagwan', '2021-08-15')\")\n",
    "cur.execute(\"INSERT INTO test values(5650, 'harendra', '2021-08-15')\")\n",
    "cur.execute(\"INSERT INTO test values(5634, 'komal', '2021-08-15')\")\n",
    "cur.execute(\"INSERT INTO test values(5635, 'sikhe', '2021-08-15')\")\n",
    "cur.execute(\"INSERT INTO test values(5645, 'aman', '2021-08-15')\")"
   ]
  },
  {
   "cell_type": "code",
   "execution_count": 118,
   "id": "694f58d6",
   "metadata": {},
   "outputs": [],
   "source": [
    "mydb1.commit()"
   ]
  },
  {
   "cell_type": "code",
   "execution_count": 8,
   "id": "8b79a645",
   "metadata": {},
   "outputs": [
    {
     "name": "stdout",
     "output_type": "stream",
     "text": [
      "4028 (HY000): A table must have at least one visible column.\n"
     ]
    }
   ],
   "source": [
    "import mysql.connector as connection\n",
    "\n",
    "try:\n",
    "    mydb1 = connection.connect(host=\"localhost\",database = \"GlassData\", user=\"root\", passwd=\"WXpPa1mf^&*\",use_pure=True)#to make a connection from database\n",
    "    # check if the connection is established\n",
    "\n",
    "    query = \"CREATE TABLE GlassData\"\n",
    "\n",
    "    cursor = mydb1.cursor() #create a cursor to execute queries\n",
    "    cursor.execute(query)\n",
    "    #print(cursor.fetchall())\n",
    "\n",
    "except Exception as e:\n",
    "    mydb1.close()\n",
    "    print(str(e))"
   ]
  },
  {
   "cell_type": "code",
   "execution_count": 21,
   "id": "acdb0c43",
   "metadata": {},
   "outputs": [],
   "source": [
    "mydb = mydb1 = connection.connect(host=\"localhost\",database = \"STUDENT\", user=\"root\", passwd=\"WXpPa1mf^&*\",use_pure=True)\n",
    "cur = mydb.cursor()"
   ]
  },
  {
   "cell_type": "code",
   "execution_count": 22,
   "id": "7ebaa88b",
   "metadata": {},
   "outputs": [],
   "source": [
    "cur.execute(\"select * from test\")"
   ]
  },
  {
   "cell_type": "code",
   "execution_count": 23,
   "id": "ce76b34e",
   "metadata": {},
   "outputs": [],
   "source": [
    "res = cur.fetchall()"
   ]
  },
  {
   "cell_type": "code",
   "execution_count": 31,
   "id": "a143d56a",
   "metadata": {},
   "outputs": [
    {
     "data": {
      "text/plain": [
       "[(5656, 'kunal', datetime.date(2021, 8, 15)),\n",
       " (5656, 'kunal', datetime.date(2021, 8, 15)),\n",
       " (5656, 'kunal', datetime.date(2021, 8, 15)),\n",
       " (5657, 'sid', datetime.date(2021, 8, 15)),\n",
       " (5658, 'umesh', datetime.date(2021, 8, 15)),\n",
       " (5659, 'bhagwan', datetime.date(2021, 8, 15)),\n",
       " (5650, 'harendra', datetime.date(2021, 8, 15)),\n",
       " (5634, 'komal', datetime.date(2021, 8, 15)),\n",
       " (5635, 'sikhe', datetime.date(2021, 8, 15)),\n",
       " (5645, 'aman', datetime.date(2021, 8, 15))]"
      ]
     },
     "execution_count": 31,
     "metadata": {},
     "output_type": "execute_result"
    }
   ],
   "source": [
    "res"
   ]
  },
  {
   "cell_type": "code",
   "execution_count": 36,
   "id": "da376712",
   "metadata": {},
   "outputs": [
    {
     "name": "stdout",
     "output_type": "stream",
     "text": [
      "(5656, 'kunal', datetime.date(2021, 8, 15))\n",
      "(5656, 'kunal', datetime.date(2021, 8, 15))\n",
      "(5656, 'kunal', datetime.date(2021, 8, 15))\n",
      "(5657, 'sid', datetime.date(2021, 8, 15))\n",
      "(5658, 'umesh', datetime.date(2021, 8, 15))\n",
      "(5659, 'bhagwan', datetime.date(2021, 8, 15))\n",
      "(5650, 'harendra', datetime.date(2021, 8, 15))\n",
      "(5634, 'komal', datetime.date(2021, 8, 15))\n",
      "(5635, 'sikhe', datetime.date(2021, 8, 15))\n",
      "(5645, 'aman', datetime.date(2021, 8, 15))\n"
     ]
    }
   ],
   "source": [
    "for i in res:\n",
    "    print(i)"
   ]
  },
  {
   "cell_type": "code",
   "execution_count": 37,
   "id": "b9e0ed85",
   "metadata": {},
   "outputs": [],
   "source": [
    "cur = mydb.cursor()"
   ]
  },
  {
   "cell_type": "code",
   "execution_count": 38,
   "id": "d65feb7f",
   "metadata": {},
   "outputs": [],
   "source": [
    "cur.execute(\"select x1, x2 from test\")"
   ]
  },
  {
   "cell_type": "code",
   "execution_count": 39,
   "id": "3081950a",
   "metadata": {},
   "outputs": [
    {
     "name": "stdout",
     "output_type": "stream",
     "text": [
      "(5656, 'kunal')\n",
      "(5656, 'kunal')\n",
      "(5656, 'kunal')\n",
      "(5657, 'sid')\n",
      "(5658, 'umesh')\n",
      "(5659, 'bhagwan')\n",
      "(5650, 'harendra')\n",
      "(5634, 'komal')\n",
      "(5635, 'sikhe')\n",
      "(5645, 'aman')\n"
     ]
    }
   ],
   "source": [
    "for i in cur.fetchall():\n",
    "    print(i)"
   ]
  },
  {
   "cell_type": "code",
   "execution_count": 41,
   "id": "86f62c0c",
   "metadata": {},
   "outputs": [],
   "source": [
    "import pandas as pd"
   ]
  },
  {
   "cell_type": "code",
   "execution_count": 43,
   "id": "f7986e13",
   "metadata": {},
   "outputs": [
    {
     "data": {
      "text/plain": [
       "<mysql.connector.connection.MySQLConnection at 0x1bcd42b2850>"
      ]
     },
     "execution_count": 43,
     "metadata": {},
     "output_type": "execute_result"
    }
   ],
   "source": [
    "mydb1"
   ]
  },
  {
   "cell_type": "code",
   "execution_count": 45,
   "id": "b3a1085e",
   "metadata": {},
   "outputs": [
    {
     "data": {
      "text/html": [
       "<div>\n",
       "<style scoped>\n",
       "    .dataframe tbody tr th:only-of-type {\n",
       "        vertical-align: middle;\n",
       "    }\n",
       "\n",
       "    .dataframe tbody tr th {\n",
       "        vertical-align: top;\n",
       "    }\n",
       "\n",
       "    .dataframe thead th {\n",
       "        text-align: right;\n",
       "    }\n",
       "</style>\n",
       "<table border=\"1\" class=\"dataframe\">\n",
       "  <thead>\n",
       "    <tr style=\"text-align: right;\">\n",
       "      <th></th>\n",
       "      <th>x1</th>\n",
       "      <th>x2</th>\n",
       "      <th>x3</th>\n",
       "    </tr>\n",
       "  </thead>\n",
       "  <tbody>\n",
       "    <tr>\n",
       "      <th>0</th>\n",
       "      <td>5656</td>\n",
       "      <td>kunal</td>\n",
       "      <td>2021-08-15</td>\n",
       "    </tr>\n",
       "    <tr>\n",
       "      <th>1</th>\n",
       "      <td>5656</td>\n",
       "      <td>kunal</td>\n",
       "      <td>2021-08-15</td>\n",
       "    </tr>\n",
       "    <tr>\n",
       "      <th>2</th>\n",
       "      <td>5656</td>\n",
       "      <td>kunal</td>\n",
       "      <td>2021-08-15</td>\n",
       "    </tr>\n",
       "    <tr>\n",
       "      <th>3</th>\n",
       "      <td>5657</td>\n",
       "      <td>sid</td>\n",
       "      <td>2021-08-15</td>\n",
       "    </tr>\n",
       "    <tr>\n",
       "      <th>4</th>\n",
       "      <td>5658</td>\n",
       "      <td>umesh</td>\n",
       "      <td>2021-08-15</td>\n",
       "    </tr>\n",
       "    <tr>\n",
       "      <th>5</th>\n",
       "      <td>5659</td>\n",
       "      <td>bhagwan</td>\n",
       "      <td>2021-08-15</td>\n",
       "    </tr>\n",
       "    <tr>\n",
       "      <th>6</th>\n",
       "      <td>5650</td>\n",
       "      <td>harendra</td>\n",
       "      <td>2021-08-15</td>\n",
       "    </tr>\n",
       "    <tr>\n",
       "      <th>7</th>\n",
       "      <td>5634</td>\n",
       "      <td>komal</td>\n",
       "      <td>2021-08-15</td>\n",
       "    </tr>\n",
       "    <tr>\n",
       "      <th>8</th>\n",
       "      <td>5635</td>\n",
       "      <td>sikhe</td>\n",
       "      <td>2021-08-15</td>\n",
       "    </tr>\n",
       "    <tr>\n",
       "      <th>9</th>\n",
       "      <td>5645</td>\n",
       "      <td>aman</td>\n",
       "      <td>2021-08-15</td>\n",
       "    </tr>\n",
       "  </tbody>\n",
       "</table>\n",
       "</div>"
      ],
      "text/plain": [
       "     x1        x2          x3\n",
       "0  5656     kunal  2021-08-15\n",
       "1  5656     kunal  2021-08-15\n",
       "2  5656     kunal  2021-08-15\n",
       "3  5657       sid  2021-08-15\n",
       "4  5658     umesh  2021-08-15\n",
       "5  5659   bhagwan  2021-08-15\n",
       "6  5650  harendra  2021-08-15\n",
       "7  5634     komal  2021-08-15\n",
       "8  5635     sikhe  2021-08-15\n",
       "9  5645      aman  2021-08-15"
      ]
     },
     "execution_count": 45,
     "metadata": {},
     "output_type": "execute_result"
    }
   ],
   "source": [
    "pd.read_sql(\"select * from student.test\", mydb1)# to read data from database"
   ]
  },
  {
   "cell_type": "code",
   "execution_count": 75,
   "id": "6b36ea8a",
   "metadata": {},
   "outputs": [],
   "source": [
    "a = pd.read_sql(\"select * from student.test\", mydb1)"
   ]
  },
  {
   "cell_type": "code",
   "execution_count": 76,
   "id": "cf914bc9",
   "metadata": {},
   "outputs": [
    {
     "data": {
      "text/html": [
       "<div>\n",
       "<style scoped>\n",
       "    .dataframe tbody tr th:only-of-type {\n",
       "        vertical-align: middle;\n",
       "    }\n",
       "\n",
       "    .dataframe tbody tr th {\n",
       "        vertical-align: top;\n",
       "    }\n",
       "\n",
       "    .dataframe thead th {\n",
       "        text-align: right;\n",
       "    }\n",
       "</style>\n",
       "<table border=\"1\" class=\"dataframe\">\n",
       "  <thead>\n",
       "    <tr style=\"text-align: right;\">\n",
       "      <th></th>\n",
       "      <th>x1</th>\n",
       "      <th>x2</th>\n",
       "      <th>x3</th>\n",
       "    </tr>\n",
       "  </thead>\n",
       "  <tbody>\n",
       "    <tr>\n",
       "      <th>0</th>\n",
       "      <td>5656</td>\n",
       "      <td>kunal</td>\n",
       "      <td>2021-08-15</td>\n",
       "    </tr>\n",
       "    <tr>\n",
       "      <th>1</th>\n",
       "      <td>5656</td>\n",
       "      <td>kunal</td>\n",
       "      <td>2021-08-15</td>\n",
       "    </tr>\n",
       "    <tr>\n",
       "      <th>2</th>\n",
       "      <td>5656</td>\n",
       "      <td>kunal</td>\n",
       "      <td>2021-08-15</td>\n",
       "    </tr>\n",
       "    <tr>\n",
       "      <th>3</th>\n",
       "      <td>5657</td>\n",
       "      <td>sid</td>\n",
       "      <td>2021-08-15</td>\n",
       "    </tr>\n",
       "    <tr>\n",
       "      <th>4</th>\n",
       "      <td>5658</td>\n",
       "      <td>umesh</td>\n",
       "      <td>2021-08-15</td>\n",
       "    </tr>\n",
       "    <tr>\n",
       "      <th>5</th>\n",
       "      <td>5659</td>\n",
       "      <td>bhagwan</td>\n",
       "      <td>2021-08-15</td>\n",
       "    </tr>\n",
       "    <tr>\n",
       "      <th>6</th>\n",
       "      <td>5650</td>\n",
       "      <td>harendra</td>\n",
       "      <td>2021-08-15</td>\n",
       "    </tr>\n",
       "    <tr>\n",
       "      <th>7</th>\n",
       "      <td>5634</td>\n",
       "      <td>komal</td>\n",
       "      <td>2021-08-15</td>\n",
       "    </tr>\n",
       "    <tr>\n",
       "      <th>8</th>\n",
       "      <td>5635</td>\n",
       "      <td>sikhe</td>\n",
       "      <td>2021-08-15</td>\n",
       "    </tr>\n",
       "    <tr>\n",
       "      <th>9</th>\n",
       "      <td>5645</td>\n",
       "      <td>aman</td>\n",
       "      <td>2021-08-15</td>\n",
       "    </tr>\n",
       "  </tbody>\n",
       "</table>\n",
       "</div>"
      ],
      "text/plain": [
       "     x1        x2          x3\n",
       "0  5656     kunal  2021-08-15\n",
       "1  5656     kunal  2021-08-15\n",
       "2  5656     kunal  2021-08-15\n",
       "3  5657       sid  2021-08-15\n",
       "4  5658     umesh  2021-08-15\n",
       "5  5659   bhagwan  2021-08-15\n",
       "6  5650  harendra  2021-08-15\n",
       "7  5634     komal  2021-08-15\n",
       "8  5635     sikhe  2021-08-15\n",
       "9  5645      aman  2021-08-15"
      ]
     },
     "execution_count": 76,
     "metadata": {},
     "output_type": "execute_result"
    }
   ],
   "source": [
    "a"
   ]
  },
  {
   "cell_type": "code",
   "execution_count": 77,
   "id": "84664bc5",
   "metadata": {},
   "outputs": [],
   "source": [
    "df = pd.read_csv(\"glass.data\")"
   ]
  },
  {
   "cell_type": "code",
   "execution_count": 78,
   "id": "7f912ed4",
   "metadata": {},
   "outputs": [
    {
     "data": {
      "text/html": [
       "<div>\n",
       "<style scoped>\n",
       "    .dataframe tbody tr th:only-of-type {\n",
       "        vertical-align: middle;\n",
       "    }\n",
       "\n",
       "    .dataframe tbody tr th {\n",
       "        vertical-align: top;\n",
       "    }\n",
       "\n",
       "    .dataframe thead th {\n",
       "        text-align: right;\n",
       "    }\n",
       "</style>\n",
       "<table border=\"1\" class=\"dataframe\">\n",
       "  <thead>\n",
       "    <tr style=\"text-align: right;\">\n",
       "      <th></th>\n",
       "      <th>index</th>\n",
       "      <th>RI</th>\n",
       "      <th>Na</th>\n",
       "      <th>Mg</th>\n",
       "      <th>Al</th>\n",
       "      <th>Si</th>\n",
       "      <th>K</th>\n",
       "      <th>Ca</th>\n",
       "      <th>Ba</th>\n",
       "      <th>Fe</th>\n",
       "      <th>Class</th>\n",
       "    </tr>\n",
       "  </thead>\n",
       "  <tbody>\n",
       "    <tr>\n",
       "      <th>0</th>\n",
       "      <td>1</td>\n",
       "      <td>1.52101</td>\n",
       "      <td>13.64</td>\n",
       "      <td>4.49</td>\n",
       "      <td>1.10</td>\n",
       "      <td>71.78</td>\n",
       "      <td>0.06</td>\n",
       "      <td>8.75</td>\n",
       "      <td>0.00</td>\n",
       "      <td>0.0</td>\n",
       "      <td>1</td>\n",
       "    </tr>\n",
       "    <tr>\n",
       "      <th>1</th>\n",
       "      <td>2</td>\n",
       "      <td>1.51761</td>\n",
       "      <td>13.89</td>\n",
       "      <td>3.60</td>\n",
       "      <td>1.36</td>\n",
       "      <td>72.73</td>\n",
       "      <td>0.48</td>\n",
       "      <td>7.83</td>\n",
       "      <td>0.00</td>\n",
       "      <td>0.0</td>\n",
       "      <td>1</td>\n",
       "    </tr>\n",
       "    <tr>\n",
       "      <th>2</th>\n",
       "      <td>3</td>\n",
       "      <td>1.51618</td>\n",
       "      <td>13.53</td>\n",
       "      <td>3.55</td>\n",
       "      <td>1.54</td>\n",
       "      <td>72.99</td>\n",
       "      <td>0.39</td>\n",
       "      <td>7.78</td>\n",
       "      <td>0.00</td>\n",
       "      <td>0.0</td>\n",
       "      <td>1</td>\n",
       "    </tr>\n",
       "    <tr>\n",
       "      <th>3</th>\n",
       "      <td>4</td>\n",
       "      <td>1.51766</td>\n",
       "      <td>13.21</td>\n",
       "      <td>3.69</td>\n",
       "      <td>1.29</td>\n",
       "      <td>72.61</td>\n",
       "      <td>0.57</td>\n",
       "      <td>8.22</td>\n",
       "      <td>0.00</td>\n",
       "      <td>0.0</td>\n",
       "      <td>1</td>\n",
       "    </tr>\n",
       "    <tr>\n",
       "      <th>4</th>\n",
       "      <td>5</td>\n",
       "      <td>1.51742</td>\n",
       "      <td>13.27</td>\n",
       "      <td>3.62</td>\n",
       "      <td>1.24</td>\n",
       "      <td>73.08</td>\n",
       "      <td>0.55</td>\n",
       "      <td>8.07</td>\n",
       "      <td>0.00</td>\n",
       "      <td>0.0</td>\n",
       "      <td>1</td>\n",
       "    </tr>\n",
       "    <tr>\n",
       "      <th>...</th>\n",
       "      <td>...</td>\n",
       "      <td>...</td>\n",
       "      <td>...</td>\n",
       "      <td>...</td>\n",
       "      <td>...</td>\n",
       "      <td>...</td>\n",
       "      <td>...</td>\n",
       "      <td>...</td>\n",
       "      <td>...</td>\n",
       "      <td>...</td>\n",
       "      <td>...</td>\n",
       "    </tr>\n",
       "    <tr>\n",
       "      <th>209</th>\n",
       "      <td>210</td>\n",
       "      <td>1.51623</td>\n",
       "      <td>14.14</td>\n",
       "      <td>0.00</td>\n",
       "      <td>2.88</td>\n",
       "      <td>72.61</td>\n",
       "      <td>0.08</td>\n",
       "      <td>9.18</td>\n",
       "      <td>1.06</td>\n",
       "      <td>0.0</td>\n",
       "      <td>7</td>\n",
       "    </tr>\n",
       "    <tr>\n",
       "      <th>210</th>\n",
       "      <td>211</td>\n",
       "      <td>1.51685</td>\n",
       "      <td>14.92</td>\n",
       "      <td>0.00</td>\n",
       "      <td>1.99</td>\n",
       "      <td>73.06</td>\n",
       "      <td>0.00</td>\n",
       "      <td>8.40</td>\n",
       "      <td>1.59</td>\n",
       "      <td>0.0</td>\n",
       "      <td>7</td>\n",
       "    </tr>\n",
       "    <tr>\n",
       "      <th>211</th>\n",
       "      <td>212</td>\n",
       "      <td>1.52065</td>\n",
       "      <td>14.36</td>\n",
       "      <td>0.00</td>\n",
       "      <td>2.02</td>\n",
       "      <td>73.42</td>\n",
       "      <td>0.00</td>\n",
       "      <td>8.44</td>\n",
       "      <td>1.64</td>\n",
       "      <td>0.0</td>\n",
       "      <td>7</td>\n",
       "    </tr>\n",
       "    <tr>\n",
       "      <th>212</th>\n",
       "      <td>213</td>\n",
       "      <td>1.51651</td>\n",
       "      <td>14.38</td>\n",
       "      <td>0.00</td>\n",
       "      <td>1.94</td>\n",
       "      <td>73.61</td>\n",
       "      <td>0.00</td>\n",
       "      <td>8.48</td>\n",
       "      <td>1.57</td>\n",
       "      <td>0.0</td>\n",
       "      <td>7</td>\n",
       "    </tr>\n",
       "    <tr>\n",
       "      <th>213</th>\n",
       "      <td>214</td>\n",
       "      <td>1.51711</td>\n",
       "      <td>14.23</td>\n",
       "      <td>0.00</td>\n",
       "      <td>2.08</td>\n",
       "      <td>73.36</td>\n",
       "      <td>0.00</td>\n",
       "      <td>8.62</td>\n",
       "      <td>1.67</td>\n",
       "      <td>0.0</td>\n",
       "      <td>7</td>\n",
       "    </tr>\n",
       "  </tbody>\n",
       "</table>\n",
       "<p>214 rows × 11 columns</p>\n",
       "</div>"
      ],
      "text/plain": [
       "     index       RI     Na    Mg    Al     Si     K    Ca    Ba   Fe  Class\n",
       "0        1  1.52101  13.64  4.49  1.10  71.78  0.06  8.75  0.00  0.0      1\n",
       "1        2  1.51761  13.89  3.60  1.36  72.73  0.48  7.83  0.00  0.0      1\n",
       "2        3  1.51618  13.53  3.55  1.54  72.99  0.39  7.78  0.00  0.0      1\n",
       "3        4  1.51766  13.21  3.69  1.29  72.61  0.57  8.22  0.00  0.0      1\n",
       "4        5  1.51742  13.27  3.62  1.24  73.08  0.55  8.07  0.00  0.0      1\n",
       "..     ...      ...    ...   ...   ...    ...   ...   ...   ...  ...    ...\n",
       "209    210  1.51623  14.14  0.00  2.88  72.61  0.08  9.18  1.06  0.0      7\n",
       "210    211  1.51685  14.92  0.00  1.99  73.06  0.00  8.40  1.59  0.0      7\n",
       "211    212  1.52065  14.36  0.00  2.02  73.42  0.00  8.44  1.64  0.0      7\n",
       "212    213  1.51651  14.38  0.00  1.94  73.61  0.00  8.48  1.57  0.0      7\n",
       "213    214  1.51711  14.23  0.00  2.08  73.36  0.00  8.62  1.67  0.0      7\n",
       "\n",
       "[214 rows x 11 columns]"
      ]
     },
     "execution_count": 78,
     "metadata": {},
     "output_type": "execute_result"
    }
   ],
   "source": [
    "df"
   ]
  },
  {
   "cell_type": "code",
   "execution_count": 79,
   "id": "b0c0149e",
   "metadata": {},
   "outputs": [],
   "source": [
    "a.to_csv(\"mydata\")"
   ]
  },
  {
   "cell_type": "code",
   "execution_count": 80,
   "id": "352cf40f",
   "metadata": {},
   "outputs": [],
   "source": [
    "mydb = connection.connect(host = \"localhost\", database = \"STUDENT\", user = \"root\", passwd = \"WXpPa1mf^&*\", use_pure = True )"
   ]
  },
  {
   "cell_type": "code",
   "execution_count": 81,
   "id": "bf8b2671",
   "metadata": {},
   "outputs": [
    {
     "data": {
      "text/plain": [
       "<mysql.connector.connection.MySQLConnection at 0x1bcd6ab9550>"
      ]
     },
     "execution_count": 81,
     "metadata": {},
     "output_type": "execute_result"
    }
   ],
   "source": [
    "mydb"
   ]
  },
  {
   "cell_type": "code",
   "execution_count": 82,
   "id": "9767f22e",
   "metadata": {},
   "outputs": [],
   "source": [
    "cur = mydb.cursor()"
   ]
  },
  {
   "cell_type": "code",
   "execution_count": 83,
   "id": "0f538a77",
   "metadata": {},
   "outputs": [
    {
     "ename": "ProgrammingError",
     "evalue": "1050 (42S01): Table 'mydata' already exists",
     "output_type": "error",
     "traceback": [
      "\u001b[1;31m---------------------------------------------------------------------------\u001b[0m",
      "\u001b[1;31mProgrammingError\u001b[0m                          Traceback (most recent call last)",
      "\u001b[1;32m<ipython-input-83-f98842a58300>\u001b[0m in \u001b[0;36m<module>\u001b[1;34m\u001b[0m\n\u001b[1;32m----> 1\u001b[1;33m \u001b[0mcur\u001b[0m\u001b[1;33m.\u001b[0m\u001b[0mexecute\u001b[0m\u001b[1;33m(\u001b[0m\u001b[1;34m\"create table mydata(n1 int(20), n2 varchar(20), n3 DATE)\"\u001b[0m\u001b[1;33m)\u001b[0m\u001b[1;33m\u001b[0m\u001b[1;33m\u001b[0m\u001b[0m\n\u001b[0m",
      "\u001b[1;32m~\\anaconda3\\lib\\site-packages\\mysql\\connector\\cursor.py\u001b[0m in \u001b[0;36mexecute\u001b[1;34m(self, operation, params, multi)\u001b[0m\n\u001b[0;32m    566\u001b[0m \u001b[1;33m\u001b[0m\u001b[0m\n\u001b[0;32m    567\u001b[0m         \u001b[1;32mtry\u001b[0m\u001b[1;33m:\u001b[0m\u001b[1;33m\u001b[0m\u001b[1;33m\u001b[0m\u001b[0m\n\u001b[1;32m--> 568\u001b[1;33m             \u001b[0mself\u001b[0m\u001b[1;33m.\u001b[0m\u001b[0m_handle_result\u001b[0m\u001b[1;33m(\u001b[0m\u001b[0mself\u001b[0m\u001b[1;33m.\u001b[0m\u001b[0m_connection\u001b[0m\u001b[1;33m.\u001b[0m\u001b[0mcmd_query\u001b[0m\u001b[1;33m(\u001b[0m\u001b[0mstmt\u001b[0m\u001b[1;33m)\u001b[0m\u001b[1;33m)\u001b[0m\u001b[1;33m\u001b[0m\u001b[1;33m\u001b[0m\u001b[0m\n\u001b[0m\u001b[0;32m    569\u001b[0m         \u001b[1;32mexcept\u001b[0m \u001b[0merrors\u001b[0m\u001b[1;33m.\u001b[0m\u001b[0mInterfaceError\u001b[0m\u001b[1;33m:\u001b[0m\u001b[1;33m\u001b[0m\u001b[1;33m\u001b[0m\u001b[0m\n\u001b[0;32m    570\u001b[0m             \u001b[1;32mif\u001b[0m \u001b[0mself\u001b[0m\u001b[1;33m.\u001b[0m\u001b[0m_connection\u001b[0m\u001b[1;33m.\u001b[0m\u001b[0m_have_next_result\u001b[0m\u001b[1;33m:\u001b[0m  \u001b[1;31m# pylint: disable=W0212\u001b[0m\u001b[1;33m\u001b[0m\u001b[1;33m\u001b[0m\u001b[0m\n",
      "\u001b[1;32m~\\anaconda3\\lib\\site-packages\\mysql\\connector\\connection.py\u001b[0m in \u001b[0;36mcmd_query\u001b[1;34m(self, query, raw, buffered, raw_as_string)\u001b[0m\n\u001b[0;32m    844\u001b[0m         \u001b[0mquery\u001b[0m \u001b[1;33m=\u001b[0m \u001b[0mbytes\u001b[0m\u001b[1;33m(\u001b[0m\u001b[0mpacket\u001b[0m\u001b[1;33m)\u001b[0m\u001b[1;33m\u001b[0m\u001b[1;33m\u001b[0m\u001b[0m\n\u001b[0;32m    845\u001b[0m         \u001b[1;32mtry\u001b[0m\u001b[1;33m:\u001b[0m\u001b[1;33m\u001b[0m\u001b[1;33m\u001b[0m\u001b[0m\n\u001b[1;32m--> 846\u001b[1;33m             \u001b[0mresult\u001b[0m \u001b[1;33m=\u001b[0m \u001b[0mself\u001b[0m\u001b[1;33m.\u001b[0m\u001b[0m_handle_result\u001b[0m\u001b[1;33m(\u001b[0m\u001b[0mself\u001b[0m\u001b[1;33m.\u001b[0m\u001b[0m_send_cmd\u001b[0m\u001b[1;33m(\u001b[0m\u001b[0mServerCmd\u001b[0m\u001b[1;33m.\u001b[0m\u001b[0mQUERY\u001b[0m\u001b[1;33m,\u001b[0m \u001b[0mquery\u001b[0m\u001b[1;33m)\u001b[0m\u001b[1;33m)\u001b[0m\u001b[1;33m\u001b[0m\u001b[1;33m\u001b[0m\u001b[0m\n\u001b[0m\u001b[0;32m    847\u001b[0m         \u001b[1;32mexcept\u001b[0m \u001b[0merrors\u001b[0m\u001b[1;33m.\u001b[0m\u001b[0mProgrammingError\u001b[0m \u001b[1;32mas\u001b[0m \u001b[0merr\u001b[0m\u001b[1;33m:\u001b[0m\u001b[1;33m\u001b[0m\u001b[1;33m\u001b[0m\u001b[0m\n\u001b[0;32m    848\u001b[0m             \u001b[1;32mif\u001b[0m \u001b[0merr\u001b[0m\u001b[1;33m.\u001b[0m\u001b[0merrno\u001b[0m \u001b[1;33m==\u001b[0m \u001b[1;36m3948\u001b[0m \u001b[1;32mand\u001b[0m\u001b[0;31m \u001b[0m\u001b[0;31m\\\u001b[0m\u001b[1;33m\u001b[0m\u001b[1;33m\u001b[0m\u001b[0m\n",
      "\u001b[1;32m~\\anaconda3\\lib\\site-packages\\mysql\\connector\\connection.py\u001b[0m in \u001b[0;36m_handle_result\u001b[1;34m(self, packet)\u001b[0m\n\u001b[0;32m    654\u001b[0m             \u001b[1;32mreturn\u001b[0m \u001b[0mself\u001b[0m\u001b[1;33m.\u001b[0m\u001b[0m_handle_eof\u001b[0m\u001b[1;33m(\u001b[0m\u001b[0mpacket\u001b[0m\u001b[1;33m)\u001b[0m\u001b[1;33m\u001b[0m\u001b[1;33m\u001b[0m\u001b[0m\n\u001b[0;32m    655\u001b[0m         \u001b[1;32melif\u001b[0m \u001b[0mpacket\u001b[0m\u001b[1;33m[\u001b[0m\u001b[1;36m4\u001b[0m\u001b[1;33m]\u001b[0m \u001b[1;33m==\u001b[0m \u001b[1;36m255\u001b[0m\u001b[1;33m:\u001b[0m\u001b[1;33m\u001b[0m\u001b[1;33m\u001b[0m\u001b[0m\n\u001b[1;32m--> 656\u001b[1;33m             \u001b[1;32mraise\u001b[0m \u001b[0merrors\u001b[0m\u001b[1;33m.\u001b[0m\u001b[0mget_exception\u001b[0m\u001b[1;33m(\u001b[0m\u001b[0mpacket\u001b[0m\u001b[1;33m)\u001b[0m\u001b[1;33m\u001b[0m\u001b[1;33m\u001b[0m\u001b[0m\n\u001b[0m\u001b[0;32m    657\u001b[0m \u001b[1;33m\u001b[0m\u001b[0m\n\u001b[0;32m    658\u001b[0m         \u001b[1;31m# We have a text result set\u001b[0m\u001b[1;33m\u001b[0m\u001b[1;33m\u001b[0m\u001b[1;33m\u001b[0m\u001b[0m\n",
      "\u001b[1;31mProgrammingError\u001b[0m: 1050 (42S01): Table 'mydata' already exists"
     ]
    }
   ],
   "source": [
    "cur.execute(\"create table mydata(n1 int(20), n2 varchar(20), n3 DATE)\")"
   ]
  },
  {
   "cell_type": "code",
   "execution_count": 95,
   "id": "07190d5c",
   "metadata": {},
   "outputs": [],
   "source": [
    "data = pd.read_csv(\"mydata\")"
   ]
  },
  {
   "cell_type": "code",
   "execution_count": 96,
   "id": "647ceda7",
   "metadata": {},
   "outputs": [
    {
     "data": {
      "text/html": [
       "<div>\n",
       "<style scoped>\n",
       "    .dataframe tbody tr th:only-of-type {\n",
       "        vertical-align: middle;\n",
       "    }\n",
       "\n",
       "    .dataframe tbody tr th {\n",
       "        vertical-align: top;\n",
       "    }\n",
       "\n",
       "    .dataframe thead th {\n",
       "        text-align: right;\n",
       "    }\n",
       "</style>\n",
       "<table border=\"1\" class=\"dataframe\">\n",
       "  <thead>\n",
       "    <tr style=\"text-align: right;\">\n",
       "      <th></th>\n",
       "      <th>0</th>\n",
       "      <th>5656</th>\n",
       "      <th>kunal</th>\n",
       "      <th>2021-08-15</th>\n",
       "    </tr>\n",
       "  </thead>\n",
       "  <tbody>\n",
       "    <tr>\n",
       "      <th>0</th>\n",
       "      <td>1</td>\n",
       "      <td>5656</td>\n",
       "      <td>kunal</td>\n",
       "      <td>2021-08-15</td>\n",
       "    </tr>\n",
       "    <tr>\n",
       "      <th>1</th>\n",
       "      <td>2</td>\n",
       "      <td>5656</td>\n",
       "      <td>kunal</td>\n",
       "      <td>2021-08-15</td>\n",
       "    </tr>\n",
       "    <tr>\n",
       "      <th>2</th>\n",
       "      <td>3</td>\n",
       "      <td>5657</td>\n",
       "      <td>sid</td>\n",
       "      <td>2021-08-15</td>\n",
       "    </tr>\n",
       "    <tr>\n",
       "      <th>3</th>\n",
       "      <td>4</td>\n",
       "      <td>5658</td>\n",
       "      <td>umesh</td>\n",
       "      <td>2021-08-15</td>\n",
       "    </tr>\n",
       "    <tr>\n",
       "      <th>4</th>\n",
       "      <td>5</td>\n",
       "      <td>5659</td>\n",
       "      <td>bhagwan</td>\n",
       "      <td>2021-08-15</td>\n",
       "    </tr>\n",
       "    <tr>\n",
       "      <th>5</th>\n",
       "      <td>6</td>\n",
       "      <td>5650</td>\n",
       "      <td>harendra</td>\n",
       "      <td>2021-08-15</td>\n",
       "    </tr>\n",
       "    <tr>\n",
       "      <th>6</th>\n",
       "      <td>7</td>\n",
       "      <td>5634</td>\n",
       "      <td>komal</td>\n",
       "      <td>2021-08-15</td>\n",
       "    </tr>\n",
       "    <tr>\n",
       "      <th>7</th>\n",
       "      <td>8</td>\n",
       "      <td>5635</td>\n",
       "      <td>sikhe</td>\n",
       "      <td>2021-08-15</td>\n",
       "    </tr>\n",
       "    <tr>\n",
       "      <th>8</th>\n",
       "      <td>9</td>\n",
       "      <td>5645</td>\n",
       "      <td>aman</td>\n",
       "      <td>2021-08-15</td>\n",
       "    </tr>\n",
       "  </tbody>\n",
       "</table>\n",
       "</div>"
      ],
      "text/plain": [
       "   0  5656     kunal  2021-08-15\n",
       "0  1  5656     kunal  2021-08-15\n",
       "1  2  5656     kunal  2021-08-15\n",
       "2  3  5657       sid  2021-08-15\n",
       "3  4  5658     umesh  2021-08-15\n",
       "4  5  5659   bhagwan  2021-08-15\n",
       "5  6  5650  harendra  2021-08-15\n",
       "6  7  5634     komal  2021-08-15\n",
       "7  8  5635     sikhe  2021-08-15\n",
       "8  9  5645      aman  2021-08-15"
      ]
     },
     "execution_count": 96,
     "metadata": {},
     "output_type": "execute_result"
    }
   ],
   "source": [
    "data"
   ]
  },
  {
   "cell_type": "code",
   "execution_count": 98,
   "id": "0709401b",
   "metadata": {},
   "outputs": [
    {
     "ename": "DatabaseError",
     "evalue": "Execution failed on sql 'SELECT name FROM sqlite_master WHERE type='table' AND name=?;': Not all parameters were used in the SQL statement",
     "output_type": "error",
     "traceback": [
      "\u001b[1;31m---------------------------------------------------------------------------\u001b[0m",
      "\u001b[1;31mProgrammingError\u001b[0m                          Traceback (most recent call last)",
      "\u001b[1;32m~\\anaconda3\\lib\\site-packages\\pandas\\io\\sql.py\u001b[0m in \u001b[0;36mexecute\u001b[1;34m(self, *args, **kwargs)\u001b[0m\n\u001b[0;32m   1724\u001b[0m         \u001b[1;32mtry\u001b[0m\u001b[1;33m:\u001b[0m\u001b[1;33m\u001b[0m\u001b[1;33m\u001b[0m\u001b[0m\n\u001b[1;32m-> 1725\u001b[1;33m             \u001b[0mcur\u001b[0m\u001b[1;33m.\u001b[0m\u001b[0mexecute\u001b[0m\u001b[1;33m(\u001b[0m\u001b[1;33m*\u001b[0m\u001b[0margs\u001b[0m\u001b[1;33m,\u001b[0m \u001b[1;33m**\u001b[0m\u001b[0mkwargs\u001b[0m\u001b[1;33m)\u001b[0m\u001b[1;33m\u001b[0m\u001b[1;33m\u001b[0m\u001b[0m\n\u001b[0m\u001b[0;32m   1726\u001b[0m             \u001b[1;32mreturn\u001b[0m \u001b[0mcur\u001b[0m\u001b[1;33m\u001b[0m\u001b[1;33m\u001b[0m\u001b[0m\n",
      "\u001b[1;32m~\\anaconda3\\lib\\site-packages\\mysql\\connector\\cursor.py\u001b[0m in \u001b[0;36mexecute\u001b[1;34m(self, operation, params, multi)\u001b[0m\n\u001b[0;32m    558\u001b[0m                 \u001b[1;32mif\u001b[0m \u001b[0mpsub\u001b[0m\u001b[1;33m.\u001b[0m\u001b[0mremaining\u001b[0m \u001b[1;33m!=\u001b[0m \u001b[1;36m0\u001b[0m\u001b[1;33m:\u001b[0m\u001b[1;33m\u001b[0m\u001b[1;33m\u001b[0m\u001b[0m\n\u001b[1;32m--> 559\u001b[1;33m                     raise errors.ProgrammingError(\n\u001b[0m\u001b[0;32m    560\u001b[0m                         \"Not all parameters were used in the SQL statement\")\n",
      "\u001b[1;31mProgrammingError\u001b[0m: Not all parameters were used in the SQL statement",
      "\nThe above exception was the direct cause of the following exception:\n",
      "\u001b[1;31mDatabaseError\u001b[0m                             Traceback (most recent call last)",
      "\u001b[1;32m<ipython-input-98-c1b04518ef89>\u001b[0m in \u001b[0;36m<module>\u001b[1;34m\u001b[0m\n\u001b[1;32m----> 1\u001b[1;33m \u001b[0mdata\u001b[0m\u001b[1;33m.\u001b[0m\u001b[0mto_sql\u001b[0m\u001b[1;33m(\u001b[0m\u001b[1;34m\"mydata\"\u001b[0m\u001b[1;33m,\u001b[0m \u001b[0mmydb\u001b[0m\u001b[1;33m)\u001b[0m\u001b[1;33m\u001b[0m\u001b[1;33m\u001b[0m\u001b[0m\n\u001b[0m",
      "\u001b[1;32m~\\anaconda3\\lib\\site-packages\\pandas\\core\\generic.py\u001b[0m in \u001b[0;36mto_sql\u001b[1;34m(self, name, con, schema, if_exists, index, index_label, chunksize, dtype, method)\u001b[0m\n\u001b[0;32m   2777\u001b[0m         \u001b[1;32mfrom\u001b[0m \u001b[0mpandas\u001b[0m\u001b[1;33m.\u001b[0m\u001b[0mio\u001b[0m \u001b[1;32mimport\u001b[0m \u001b[0msql\u001b[0m\u001b[1;33m\u001b[0m\u001b[1;33m\u001b[0m\u001b[0m\n\u001b[0;32m   2778\u001b[0m \u001b[1;33m\u001b[0m\u001b[0m\n\u001b[1;32m-> 2779\u001b[1;33m         sql.to_sql(\n\u001b[0m\u001b[0;32m   2780\u001b[0m             \u001b[0mself\u001b[0m\u001b[1;33m,\u001b[0m\u001b[1;33m\u001b[0m\u001b[1;33m\u001b[0m\u001b[0m\n\u001b[0;32m   2781\u001b[0m             \u001b[0mname\u001b[0m\u001b[1;33m,\u001b[0m\u001b[1;33m\u001b[0m\u001b[1;33m\u001b[0m\u001b[0m\n",
      "\u001b[1;32m~\\anaconda3\\lib\\site-packages\\pandas\\io\\sql.py\u001b[0m in \u001b[0;36mto_sql\u001b[1;34m(frame, name, con, schema, if_exists, index, index_label, chunksize, dtype, method)\u001b[0m\n\u001b[0;32m    599\u001b[0m         )\n\u001b[0;32m    600\u001b[0m \u001b[1;33m\u001b[0m\u001b[0m\n\u001b[1;32m--> 601\u001b[1;33m     pandas_sql.to_sql(\n\u001b[0m\u001b[0;32m    602\u001b[0m         \u001b[0mframe\u001b[0m\u001b[1;33m,\u001b[0m\u001b[1;33m\u001b[0m\u001b[1;33m\u001b[0m\u001b[0m\n\u001b[0;32m    603\u001b[0m         \u001b[0mname\u001b[0m\u001b[1;33m,\u001b[0m\u001b[1;33m\u001b[0m\u001b[1;33m\u001b[0m\u001b[0m\n",
      "\u001b[1;32m~\\anaconda3\\lib\\site-packages\\pandas\\io\\sql.py\u001b[0m in \u001b[0;36mto_sql\u001b[1;34m(self, frame, name, if_exists, index, index_label, schema, chunksize, dtype, method)\u001b[0m\n\u001b[0;32m   1869\u001b[0m             \u001b[0mdtype\u001b[0m\u001b[1;33m=\u001b[0m\u001b[0mdtype\u001b[0m\u001b[1;33m,\u001b[0m\u001b[1;33m\u001b[0m\u001b[1;33m\u001b[0m\u001b[0m\n\u001b[0;32m   1870\u001b[0m         )\n\u001b[1;32m-> 1871\u001b[1;33m         \u001b[0mtable\u001b[0m\u001b[1;33m.\u001b[0m\u001b[0mcreate\u001b[0m\u001b[1;33m(\u001b[0m\u001b[1;33m)\u001b[0m\u001b[1;33m\u001b[0m\u001b[1;33m\u001b[0m\u001b[0m\n\u001b[0m\u001b[0;32m   1872\u001b[0m         \u001b[0mtable\u001b[0m\u001b[1;33m.\u001b[0m\u001b[0minsert\u001b[0m\u001b[1;33m(\u001b[0m\u001b[0mchunksize\u001b[0m\u001b[1;33m,\u001b[0m \u001b[0mmethod\u001b[0m\u001b[1;33m)\u001b[0m\u001b[1;33m\u001b[0m\u001b[1;33m\u001b[0m\u001b[0m\n\u001b[0;32m   1873\u001b[0m \u001b[1;33m\u001b[0m\u001b[0m\n",
      "\u001b[1;32m~\\anaconda3\\lib\\site-packages\\pandas\\io\\sql.py\u001b[0m in \u001b[0;36mcreate\u001b[1;34m(self)\u001b[0m\n\u001b[0;32m    734\u001b[0m \u001b[1;33m\u001b[0m\u001b[0m\n\u001b[0;32m    735\u001b[0m     \u001b[1;32mdef\u001b[0m \u001b[0mcreate\u001b[0m\u001b[1;33m(\u001b[0m\u001b[0mself\u001b[0m\u001b[1;33m)\u001b[0m\u001b[1;33m:\u001b[0m\u001b[1;33m\u001b[0m\u001b[1;33m\u001b[0m\u001b[0m\n\u001b[1;32m--> 736\u001b[1;33m         \u001b[1;32mif\u001b[0m \u001b[0mself\u001b[0m\u001b[1;33m.\u001b[0m\u001b[0mexists\u001b[0m\u001b[1;33m(\u001b[0m\u001b[1;33m)\u001b[0m\u001b[1;33m:\u001b[0m\u001b[1;33m\u001b[0m\u001b[1;33m\u001b[0m\u001b[0m\n\u001b[0m\u001b[0;32m    737\u001b[0m             \u001b[1;32mif\u001b[0m \u001b[0mself\u001b[0m\u001b[1;33m.\u001b[0m\u001b[0mif_exists\u001b[0m \u001b[1;33m==\u001b[0m \u001b[1;34m\"fail\"\u001b[0m\u001b[1;33m:\u001b[0m\u001b[1;33m\u001b[0m\u001b[1;33m\u001b[0m\u001b[0m\n\u001b[0;32m    738\u001b[0m                 \u001b[1;32mraise\u001b[0m \u001b[0mValueError\u001b[0m\u001b[1;33m(\u001b[0m\u001b[1;34mf\"Table '{self.name}' already exists.\"\u001b[0m\u001b[1;33m)\u001b[0m\u001b[1;33m\u001b[0m\u001b[1;33m\u001b[0m\u001b[0m\n",
      "\u001b[1;32m~\\anaconda3\\lib\\site-packages\\pandas\\io\\sql.py\u001b[0m in \u001b[0;36mexists\u001b[1;34m(self)\u001b[0m\n\u001b[0;32m    718\u001b[0m \u001b[1;33m\u001b[0m\u001b[0m\n\u001b[0;32m    719\u001b[0m     \u001b[1;32mdef\u001b[0m \u001b[0mexists\u001b[0m\u001b[1;33m(\u001b[0m\u001b[0mself\u001b[0m\u001b[1;33m)\u001b[0m\u001b[1;33m:\u001b[0m\u001b[1;33m\u001b[0m\u001b[1;33m\u001b[0m\u001b[0m\n\u001b[1;32m--> 720\u001b[1;33m         \u001b[1;32mreturn\u001b[0m \u001b[0mself\u001b[0m\u001b[1;33m.\u001b[0m\u001b[0mpd_sql\u001b[0m\u001b[1;33m.\u001b[0m\u001b[0mhas_table\u001b[0m\u001b[1;33m(\u001b[0m\u001b[0mself\u001b[0m\u001b[1;33m.\u001b[0m\u001b[0mname\u001b[0m\u001b[1;33m,\u001b[0m \u001b[0mself\u001b[0m\u001b[1;33m.\u001b[0m\u001b[0mschema\u001b[0m\u001b[1;33m)\u001b[0m\u001b[1;33m\u001b[0m\u001b[1;33m\u001b[0m\u001b[0m\n\u001b[0m\u001b[0;32m    721\u001b[0m \u001b[1;33m\u001b[0m\u001b[0m\n\u001b[0;32m    722\u001b[0m     \u001b[1;32mdef\u001b[0m \u001b[0msql_schema\u001b[0m\u001b[1;33m(\u001b[0m\u001b[0mself\u001b[0m\u001b[1;33m)\u001b[0m\u001b[1;33m:\u001b[0m\u001b[1;33m\u001b[0m\u001b[1;33m\u001b[0m\u001b[0m\n",
      "\u001b[1;32m~\\anaconda3\\lib\\site-packages\\pandas\\io\\sql.py\u001b[0m in \u001b[0;36mhas_table\u001b[1;34m(self, name, schema)\u001b[0m\n\u001b[0;32m   1880\u001b[0m         \u001b[0mquery\u001b[0m \u001b[1;33m=\u001b[0m \u001b[1;34mf\"SELECT name FROM sqlite_master WHERE type='table' AND name={wld};\"\u001b[0m\u001b[1;33m\u001b[0m\u001b[1;33m\u001b[0m\u001b[0m\n\u001b[0;32m   1881\u001b[0m \u001b[1;33m\u001b[0m\u001b[0m\n\u001b[1;32m-> 1882\u001b[1;33m         \u001b[1;32mreturn\u001b[0m \u001b[0mlen\u001b[0m\u001b[1;33m(\u001b[0m\u001b[0mself\u001b[0m\u001b[1;33m.\u001b[0m\u001b[0mexecute\u001b[0m\u001b[1;33m(\u001b[0m\u001b[0mquery\u001b[0m\u001b[1;33m,\u001b[0m \u001b[1;33m[\u001b[0m\u001b[0mname\u001b[0m\u001b[1;33m]\u001b[0m\u001b[1;33m)\u001b[0m\u001b[1;33m.\u001b[0m\u001b[0mfetchall\u001b[0m\u001b[1;33m(\u001b[0m\u001b[1;33m)\u001b[0m\u001b[1;33m)\u001b[0m \u001b[1;33m>\u001b[0m \u001b[1;36m0\u001b[0m\u001b[1;33m\u001b[0m\u001b[1;33m\u001b[0m\u001b[0m\n\u001b[0m\u001b[0;32m   1883\u001b[0m \u001b[1;33m\u001b[0m\u001b[0m\n\u001b[0;32m   1884\u001b[0m     \u001b[1;32mdef\u001b[0m \u001b[0mget_table\u001b[0m\u001b[1;33m(\u001b[0m\u001b[0mself\u001b[0m\u001b[1;33m,\u001b[0m \u001b[0mtable_name\u001b[0m\u001b[1;33m,\u001b[0m \u001b[0mschema\u001b[0m\u001b[1;33m=\u001b[0m\u001b[1;32mNone\u001b[0m\u001b[1;33m)\u001b[0m\u001b[1;33m:\u001b[0m\u001b[1;33m\u001b[0m\u001b[1;33m\u001b[0m\u001b[0m\n",
      "\u001b[1;32m~\\anaconda3\\lib\\site-packages\\pandas\\io\\sql.py\u001b[0m in \u001b[0;36mexecute\u001b[1;34m(self, *args, **kwargs)\u001b[0m\n\u001b[0;32m   1735\u001b[0m \u001b[1;33m\u001b[0m\u001b[0m\n\u001b[0;32m   1736\u001b[0m             \u001b[0mex\u001b[0m \u001b[1;33m=\u001b[0m \u001b[0mDatabaseError\u001b[0m\u001b[1;33m(\u001b[0m\u001b[1;34mf\"Execution failed on sql '{args[0]}': {exc}\"\u001b[0m\u001b[1;33m)\u001b[0m\u001b[1;33m\u001b[0m\u001b[1;33m\u001b[0m\u001b[0m\n\u001b[1;32m-> 1737\u001b[1;33m             \u001b[1;32mraise\u001b[0m \u001b[0mex\u001b[0m \u001b[1;32mfrom\u001b[0m \u001b[0mexc\u001b[0m\u001b[1;33m\u001b[0m\u001b[1;33m\u001b[0m\u001b[0m\n\u001b[0m\u001b[0;32m   1738\u001b[0m \u001b[1;33m\u001b[0m\u001b[0m\n\u001b[0;32m   1739\u001b[0m     \u001b[1;33m@\u001b[0m\u001b[0mstaticmethod\u001b[0m\u001b[1;33m\u001b[0m\u001b[1;33m\u001b[0m\u001b[0m\n",
      "\u001b[1;31mDatabaseError\u001b[0m: Execution failed on sql 'SELECT name FROM sqlite_master WHERE type='table' AND name=?;': Not all parameters were used in the SQL statement"
     ]
    }
   ],
   "source": [
    "data.to_sql(\"mydata\", mydb)"
   ]
  },
  {
   "cell_type": "code",
   "execution_count": 118,
   "id": "fd28aa94",
   "metadata": {},
   "outputs": [],
   "source": [
    "import mysql.connector as connection\n",
    "import pandas as pd\n",
    "import csv"
   ]
  },
  {
   "cell_type": "code",
   "execution_count": 100,
   "id": "89b2eef2",
   "metadata": {},
   "outputs": [],
   "source": [
    "mydb = connection.connect(host = \"localhost\", database = \"STUDENT\", user = \"root\", passwd = \"WXpPa1mf^&*\", use_pure = True )"
   ]
  },
  {
   "cell_type": "code",
   "execution_count": 102,
   "id": "3f4777e5",
   "metadata": {},
   "outputs": [],
   "source": [
    "cur = mydb.cursor()"
   ]
  },
  {
   "cell_type": "code",
   "execution_count": 108,
   "id": "71c6177c",
   "metadata": {},
   "outputs": [],
   "source": [
    "cur.execute(\"CREATE TABLE  student.GlassData1 (Index_Number INT(10),RI float(10,5), Na float(10,5), Mg float(10,5),Al float(10,5),\" \\\n",
    "            \" Si float(10,5), K float(10,5), Ca float(10,5), Ba float(10,5), Fe float(10,5), Class INT(5))\")"
   ]
  },
  {
   "cell_type": "code",
   "execution_count": 109,
   "id": "940b8615",
   "metadata": {},
   "outputs": [
    {
     "data": {
      "text/plain": [
       "'C:\\\\Users\\\\Hp\\\\Desktop\\\\Untitled Folder 1'"
      ]
     },
     "execution_count": 109,
     "metadata": {},
     "output_type": "execute_result"
    }
   ],
   "source": [
    "pwd"
   ]
  },
  {
   "cell_type": "code",
   "execution_count": 112,
   "id": "888f6af2",
   "metadata": {},
   "outputs": [
    {
     "name": "stdout",
     "output_type": "stream",
     "text": [
      " Volume in drive C has no label.\n",
      " Volume Serial Number is 9452-2BAA\n",
      "\n",
      " Directory of C:\\Users\\Hp\\Desktop\\Untitled Folder 1\n",
      "\n",
      "06-09-2021  04:16    <DIR>          .\n",
      "06-09-2021  04:16    <DIR>          ..\n",
      "05-09-2021  23:14    <DIR>          .ipynb_checkpoints\n",
      "03-09-2021  22:36    <DIR>          __pycache__\n",
      "05-09-2021  23:14    <DIR>          19.2.MySQL\n",
      "05-09-2021  21:28            10,576 19.2.MySQL.ipynb\n",
      "05-09-2021  12:18             9,579 Abstract and Inheritance.ipynb\n",
      "30-08-2021  21:40             1,469 app3.log\n",
      "31-08-2021  03:16                92 arithmetic.py\n",
      "04-09-2021  00:12                10 autopay\n",
      "04-09-2021  00:05                17 autopay2\n",
      "04-09-2021  00:00                 0 autopay3\n",
      "04-09-2021  00:21            22,473 class and object.ipynb\n",
      "06-09-2021  04:16            58,679 connection of SQL with python.ipynb\n",
      "03-09-2021  23:23                 4 cool\n",
      "21-01-2020  06:39            11,941 glass.data\n",
      "04-09-2021  00:05                 0 Hbhhb\n",
      "05-09-2021  23:14    <DIR>          imgs\n",
      "05-09-2021  23:14    <DIR>          Imp files\n",
      "02-09-2021  23:19             1,615 jupy1.ipynb\n",
      "26-08-2021  03:40    <DIR>          logging\n",
      "31-08-2021  00:11           104,172 Logging and Debugging.ipynb\n",
      "03-09-2021  22:36               116 mo1.py\n",
      "03-09-2021  22:39            50,880 Modules and Exception.ipynb\n",
      "06-09-2021  03:28               242 mydata\n",
      "15-05-2021  04:38               541 mydata.csv\n",
      "22-03-2020  03:54         3,135,181 MYSQL application.docx\n",
      "05-08-2020  16:07         2,338,832 MYSQL application.pdf\n",
      "25-08-2021  02:38                23 smile\n",
      "25-08-2021  03:15                23 smile_1\n",
      "25-08-2021  03:16                43 smile_2\n",
      "04-09-2021  00:12               748 task_class.log\n",
      "31-08-2021  03:05                64 test.py\n",
      "26-08-2021  03:53             1,089 test1.log\n",
      "02-09-2021  22:36    <DIR>          test123\n",
      "26-08-2021  06:13             2,459 test2.log\n",
      "03-09-2021  05:18                 0 test22.txt\n",
      "30-08-2021  21:26             1,081 test3.log\n",
      "31-08-2021  03:37               198 test6.py\n",
      "31-08-2021  03:01                 0 text.py.txt\n",
      "05-09-2021  22:05            91,222 Untitled.ipynb\n",
      "              32 File(s)      5,843,369 bytes\n",
      "               9 Dir(s)  177,255,596,032 bytes free\n"
     ]
    }
   ],
   "source": [
    "ls"
   ]
  },
  {
   "cell_type": "code",
   "execution_count": 127,
   "id": "f8337cb9",
   "metadata": {},
   "outputs": [
    {
     "name": "stdout",
     "output_type": "stream",
     "text": [
      "<_csv.reader object at 0x000001BCD888BEE0>\n",
      "(0, ['1,1.52101,13.64,4.49,1.10,71.78,0.06,8.75,0.00,0.00,1'])\n",
      "(1, ['2,1.51761,13.89,3.60,1.36,72.73,0.48,7.83,0.00,0.00,1'])\n",
      "(2, ['3,1.51618,13.53,3.55,1.54,72.99,0.39,7.78,0.00,0.00,1'])\n",
      "(3, ['4,1.51766,13.21,3.69,1.29,72.61,0.57,8.22,0.00,0.00,1'])\n",
      "(4, ['5,1.51742,13.27,3.62,1.24,73.08,0.55,8.07,0.00,0.00,1'])\n",
      "(5, ['6,1.51596,12.79,3.61,1.62,72.97,0.64,8.07,0.00,0.26,1'])\n",
      "(6, ['7,1.51743,13.30,3.60,1.14,73.09,0.58,8.17,0.00,0.00,1'])\n",
      "(7, ['8,1.51756,13.15,3.61,1.05,73.24,0.57,8.24,0.00,0.00,1'])\n",
      "(8, ['9,1.51918,14.04,3.58,1.37,72.08,0.56,8.30,0.00,0.00,1'])\n",
      "(9, ['10,1.51755,13.00,3.60,1.36,72.99,0.57,8.40,0.00,0.11,1'])\n",
      "(10, ['11,1.51571,12.72,3.46,1.56,73.20,0.67,8.09,0.00,0.24,1'])\n",
      "(11, ['12,1.51763,12.80,3.66,1.27,73.01,0.60,8.56,0.00,0.00,1'])\n",
      "(12, ['13,1.51589,12.88,3.43,1.40,73.28,0.69,8.05,0.00,0.24,1'])\n",
      "(13, ['14,1.51748,12.86,3.56,1.27,73.21,0.54,8.38,0.00,0.17,1'])\n",
      "(14, ['15,1.51763,12.61,3.59,1.31,73.29,0.58,8.50,0.00,0.00,1'])\n",
      "(15, ['16,1.51761,12.81,3.54,1.23,73.24,0.58,8.39,0.00,0.00,1'])\n",
      "(16, ['17,1.51784,12.68,3.67,1.16,73.11,0.61,8.70,0.00,0.00,1'])\n",
      "(17, ['18,1.52196,14.36,3.85,0.89,71.36,0.15,9.15,0.00,0.00,1'])\n",
      "(18, ['19,1.51911,13.90,3.73,1.18,72.12,0.06,8.89,0.00,0.00,1'])\n",
      "(19, ['20,1.51735,13.02,3.54,1.69,72.73,0.54,8.44,0.00,0.07,1'])\n",
      "(20, ['21,1.51750,12.82,3.55,1.49,72.75,0.54,8.52,0.00,0.19,1'])\n",
      "(21, ['22,1.51966,14.77,3.75,0.29,72.02,0.03,9.00,0.00,0.00,1'])\n",
      "(22, ['23,1.51736,12.78,3.62,1.29,72.79,0.59,8.70,0.00,0.00,1'])\n",
      "(23, ['24,1.51751,12.81,3.57,1.35,73.02,0.62,8.59,0.00,0.00,1'])\n",
      "(24, ['25,1.51720,13.38,3.50,1.15,72.85,0.50,8.43,0.00,0.00,1'])\n",
      "(25, ['26,1.51764,12.98,3.54,1.21,73.00,0.65,8.53,0.00,0.00,1'])\n",
      "(26, ['27,1.51793,13.21,3.48,1.41,72.64,0.59,8.43,0.00,0.00,1'])\n",
      "(27, ['28,1.51721,12.87,3.48,1.33,73.04,0.56,8.43,0.00,0.00,1'])\n",
      "(28, ['29,1.51768,12.56,3.52,1.43,73.15,0.57,8.54,0.00,0.00,1'])\n",
      "(29, ['30,1.51784,13.08,3.49,1.28,72.86,0.60,8.49,0.00,0.00,1'])\n",
      "(30, ['31,1.51768,12.65,3.56,1.30,73.08,0.61,8.69,0.00,0.14,1'])\n",
      "(31, ['32,1.51747,12.84,3.50,1.14,73.27,0.56,8.55,0.00,0.00,1'])\n",
      "(32, ['33,1.51775,12.85,3.48,1.23,72.97,0.61,8.56,0.09,0.22,1'])\n",
      "(33, ['34,1.51753,12.57,3.47,1.38,73.39,0.60,8.55,0.00,0.06,1'])\n",
      "(34, ['35,1.51783,12.69,3.54,1.34,72.95,0.57,8.75,0.00,0.00,1'])\n",
      "(35, ['36,1.51567,13.29,3.45,1.21,72.74,0.56,8.57,0.00,0.00,1'])\n",
      "(36, ['37,1.51909,13.89,3.53,1.32,71.81,0.51,8.78,0.11,0.00,1'])\n",
      "(37, ['38,1.51797,12.74,3.48,1.35,72.96,0.64,8.68,0.00,0.00,1'])\n",
      "(38, ['39,1.52213,14.21,3.82,0.47,71.77,0.11,9.57,0.00,0.00,1'])\n",
      "(39, ['40,1.52213,14.21,3.82,0.47,71.77,0.11,9.57,0.00,0.00,1'])\n",
      "(40, ['41,1.51793,12.79,3.50,1.12,73.03,0.64,8.77,0.00,0.00,1'])\n",
      "(41, ['42,1.51755,12.71,3.42,1.20,73.20,0.59,8.64,0.00,0.00,1'])\n",
      "(42, ['43,1.51779,13.21,3.39,1.33,72.76,0.59,8.59,0.00,0.00,1'])\n",
      "(43, ['44,1.52210,13.73,3.84,0.72,71.76,0.17,9.74,0.00,0.00,1'])\n",
      "(44, ['45,1.51786,12.73,3.43,1.19,72.95,0.62,8.76,0.00,0.30,1'])\n",
      "(45, ['46,1.51900,13.49,3.48,1.35,71.95,0.55,9.00,0.00,0.00,1'])\n",
      "(46, ['47,1.51869,13.19,3.37,1.18,72.72,0.57,8.83,0.00,0.16,1'])\n",
      "(47, ['48,1.52667,13.99,3.70,0.71,71.57,0.02,9.82,0.00,0.10,1'])\n",
      "(48, ['49,1.52223,13.21,3.77,0.79,71.99,0.13,10.02,0.00,0.00,1'])\n",
      "(49, ['50,1.51898,13.58,3.35,1.23,72.08,0.59,8.91,0.00,0.00,1'])\n",
      "(50, ['51,1.52320,13.72,3.72,0.51,71.75,0.09,10.06,0.00,0.16,1'])\n",
      "(51, ['52,1.51926,13.20,3.33,1.28,72.36,0.60,9.14,0.00,0.11,1'])\n",
      "(52, ['53,1.51808,13.43,2.87,1.19,72.84,0.55,9.03,0.00,0.00,1'])\n",
      "(53, ['54,1.51837,13.14,2.84,1.28,72.85,0.55,9.07,0.00,0.00,1'])\n",
      "(54, ['55,1.51778,13.21,2.81,1.29,72.98,0.51,9.02,0.00,0.09,1'])\n",
      "(55, ['56,1.51769,12.45,2.71,1.29,73.70,0.56,9.06,0.00,0.24,1'])\n",
      "(56, ['57,1.51215,12.99,3.47,1.12,72.98,0.62,8.35,0.00,0.31,1'])\n",
      "(57, ['58,1.51824,12.87,3.48,1.29,72.95,0.60,8.43,0.00,0.00,1'])\n",
      "(58, ['59,1.51754,13.48,3.74,1.17,72.99,0.59,8.03,0.00,0.00,1'])\n",
      "(59, ['60,1.51754,13.39,3.66,1.19,72.79,0.57,8.27,0.00,0.11,1'])\n",
      "(60, ['61,1.51905,13.60,3.62,1.11,72.64,0.14,8.76,0.00,0.00,1'])\n",
      "(61, ['62,1.51977,13.81,3.58,1.32,71.72,0.12,8.67,0.69,0.00,1'])\n",
      "(62, ['63,1.52172,13.51,3.86,0.88,71.79,0.23,9.54,0.00,0.11,1'])\n",
      "(63, ['64,1.52227,14.17,3.81,0.78,71.35,0.00,9.69,0.00,0.00,1'])\n",
      "(64, ['65,1.52172,13.48,3.74,0.90,72.01,0.18,9.61,0.00,0.07,1'])\n",
      "(65, ['66,1.52099,13.69,3.59,1.12,71.96,0.09,9.40,0.00,0.00,1'])\n",
      "(66, ['67,1.52152,13.05,3.65,0.87,72.22,0.19,9.85,0.00,0.17,1'])\n",
      "(67, ['68,1.52152,13.05,3.65,0.87,72.32,0.19,9.85,0.00,0.17,1'])\n",
      "(68, ['69,1.52152,13.12,3.58,0.90,72.20,0.23,9.82,0.00,0.16,1'])\n",
      "(69, ['70,1.52300,13.31,3.58,0.82,71.99,0.12,10.17,0.00,0.03,1'])\n",
      "(70, ['71,1.51574,14.86,3.67,1.74,71.87,0.16,7.36,0.00,0.12,2'])\n",
      "(71, ['72,1.51848,13.64,3.87,1.27,71.96,0.54,8.32,0.00,0.32,2'])\n",
      "(72, ['73,1.51593,13.09,3.59,1.52,73.10,0.67,7.83,0.00,0.00,2'])\n",
      "(73, ['74,1.51631,13.34,3.57,1.57,72.87,0.61,7.89,0.00,0.00,2'])\n",
      "(74, ['75,1.51596,13.02,3.56,1.54,73.11,0.72,7.90,0.00,0.00,2'])\n",
      "(75, ['76,1.51590,13.02,3.58,1.51,73.12,0.69,7.96,0.00,0.00,2'])\n",
      "(76, ['77,1.51645,13.44,3.61,1.54,72.39,0.66,8.03,0.00,0.00,2'])\n",
      "(77, ['78,1.51627,13.00,3.58,1.54,72.83,0.61,8.04,0.00,0.00,2'])\n",
      "(78, ['79,1.51613,13.92,3.52,1.25,72.88,0.37,7.94,0.00,0.14,2'])\n",
      "(79, ['80,1.51590,12.82,3.52,1.90,72.86,0.69,7.97,0.00,0.00,2'])\n",
      "(80, ['81,1.51592,12.86,3.52,2.12,72.66,0.69,7.97,0.00,0.00,2'])\n",
      "(81, ['82,1.51593,13.25,3.45,1.43,73.17,0.61,7.86,0.00,0.00,2'])\n",
      "(82, ['83,1.51646,13.41,3.55,1.25,72.81,0.68,8.10,0.00,0.00,2'])\n",
      "(83, ['84,1.51594,13.09,3.52,1.55,72.87,0.68,8.05,0.00,0.09,2'])\n",
      "(84, ['85,1.51409,14.25,3.09,2.08,72.28,1.10,7.08,0.00,0.00,2'])\n",
      "(85, ['86,1.51625,13.36,3.58,1.49,72.72,0.45,8.21,0.00,0.00,2'])\n",
      "(86, ['87,1.51569,13.24,3.49,1.47,73.25,0.38,8.03,0.00,0.00,2'])\n",
      "(87, ['88,1.51645,13.40,3.49,1.52,72.65,0.67,8.08,0.00,0.10,2'])\n",
      "(88, ['89,1.51618,13.01,3.50,1.48,72.89,0.60,8.12,0.00,0.00,2'])\n",
      "(89, ['90,1.51640,12.55,3.48,1.87,73.23,0.63,8.08,0.00,0.09,2'])\n",
      "(90, ['91,1.51841,12.93,3.74,1.11,72.28,0.64,8.96,0.00,0.22,2'])\n",
      "(91, ['92,1.51605,12.90,3.44,1.45,73.06,0.44,8.27,0.00,0.00,2'])\n",
      "(92, ['93,1.51588,13.12,3.41,1.58,73.26,0.07,8.39,0.00,0.19,2'])\n",
      "(93, ['94,1.51590,13.24,3.34,1.47,73.10,0.39,8.22,0.00,0.00,2'])\n",
      "(94, ['95,1.51629,12.71,3.33,1.49,73.28,0.67,8.24,0.00,0.00,2'])\n",
      "(95, ['96,1.51860,13.36,3.43,1.43,72.26,0.51,8.60,0.00,0.00,2'])\n",
      "(96, ['97,1.51841,13.02,3.62,1.06,72.34,0.64,9.13,0.00,0.15,2'])\n",
      "(97, ['98,1.51743,12.20,3.25,1.16,73.55,0.62,8.90,0.00,0.24,2'])\n",
      "(98, ['99,1.51689,12.67,2.88,1.71,73.21,0.73,8.54,0.00,0.00,2'])\n",
      "(99, ['100,1.51811,12.96,2.96,1.43,72.92,0.60,8.79,0.14,0.00,2'])\n",
      "(100, ['101,1.51655,12.75,2.85,1.44,73.27,0.57,8.79,0.11,0.22,2'])\n",
      "(101, ['102,1.51730,12.35,2.72,1.63,72.87,0.70,9.23,0.00,0.00,2'])\n",
      "(102, ['103,1.51820,12.62,2.76,0.83,73.81,0.35,9.42,0.00,0.20,2'])\n",
      "(103, ['104,1.52725,13.80,3.15,0.66,70.57,0.08,11.64,0.00,0.00,2'])\n",
      "(104, ['105,1.52410,13.83,2.90,1.17,71.15,0.08,10.79,0.00,0.00,2'])\n",
      "(105, ['106,1.52475,11.45,0.00,1.88,72.19,0.81,13.24,0.00,0.34,2'])\n",
      "(106, ['107,1.53125,10.73,0.00,2.10,69.81,0.58,13.30,3.15,0.28,2'])\n",
      "(107, ['108,1.53393,12.30,0.00,1.00,70.16,0.12,16.19,0.00,0.24,2'])\n",
      "(108, ['109,1.52222,14.43,0.00,1.00,72.67,0.10,11.52,0.00,0.08,2'])\n",
      "(109, ['110,1.51818,13.72,0.00,0.56,74.45,0.00,10.99,0.00,0.00,2'])\n",
      "(110, ['111,1.52664,11.23,0.00,0.77,73.21,0.00,14.68,0.00,0.00,2'])\n",
      "(111, ['112,1.52739,11.02,0.00,0.75,73.08,0.00,14.96,0.00,0.00,2'])\n",
      "(112, ['113,1.52777,12.64,0.00,0.67,72.02,0.06,14.40,0.00,0.00,2'])\n",
      "(113, ['114,1.51892,13.46,3.83,1.26,72.55,0.57,8.21,0.00,0.14,2'])\n",
      "(114, ['115,1.51847,13.10,3.97,1.19,72.44,0.60,8.43,0.00,0.00,2'])\n",
      "(115, ['116,1.51846,13.41,3.89,1.33,72.38,0.51,8.28,0.00,0.00,2'])\n",
      "(116, ['117,1.51829,13.24,3.90,1.41,72.33,0.55,8.31,0.00,0.10,2'])\n",
      "(117, ['118,1.51708,13.72,3.68,1.81,72.06,0.64,7.88,0.00,0.00,2'])\n",
      "(118, ['119,1.51673,13.30,3.64,1.53,72.53,0.65,8.03,0.00,0.29,2'])\n",
      "(119, ['120,1.51652,13.56,3.57,1.47,72.45,0.64,7.96,0.00,0.00,2'])\n",
      "(120, ['121,1.51844,13.25,3.76,1.32,72.40,0.58,8.42,0.00,0.00,2'])\n",
      "(121, ['122,1.51663,12.93,3.54,1.62,72.96,0.64,8.03,0.00,0.21,2'])\n",
      "(122, ['123,1.51687,13.23,3.54,1.48,72.84,0.56,8.10,0.00,0.00,2'])\n",
      "(123, ['124,1.51707,13.48,3.48,1.71,72.52,0.62,7.99,0.00,0.00,2'])\n",
      "(124, ['125,1.52177,13.20,3.68,1.15,72.75,0.54,8.52,0.00,0.00,2'])\n",
      "(125, ['126,1.51872,12.93,3.66,1.56,72.51,0.58,8.55,0.00,0.12,2'])\n",
      "(126, ['127,1.51667,12.94,3.61,1.26,72.75,0.56,8.60,0.00,0.00,2'])\n",
      "(127, ['128,1.52081,13.78,2.28,1.43,71.99,0.49,9.85,0.00,0.17,2'])\n",
      "(128, ['129,1.52068,13.55,2.09,1.67,72.18,0.53,9.57,0.27,0.17,2'])\n",
      "(129, ['130,1.52020,13.98,1.35,1.63,71.76,0.39,10.56,0.00,0.18,2'])\n",
      "(130, ['131,1.52177,13.75,1.01,1.36,72.19,0.33,11.14,0.00,0.00,2'])\n",
      "(131, ['132,1.52614,13.70,0.00,1.36,71.24,0.19,13.44,0.00,0.10,2'])\n",
      "(132, ['133,1.51813,13.43,3.98,1.18,72.49,0.58,8.15,0.00,0.00,2'])\n",
      "(133, ['134,1.51800,13.71,3.93,1.54,71.81,0.54,8.21,0.00,0.15,2'])\n",
      "(134, ['135,1.51811,13.33,3.85,1.25,72.78,0.52,8.12,0.00,0.00,2'])\n",
      "(135, ['136,1.51789,13.19,3.90,1.30,72.33,0.55,8.44,0.00,0.28,2'])\n",
      "(136, ['137,1.51806,13.00,3.80,1.08,73.07,0.56,8.38,0.00,0.12,2'])\n",
      "(137, ['138,1.51711,12.89,3.62,1.57,72.96,0.61,8.11,0.00,0.00,2'])\n",
      "(138, ['139,1.51674,12.79,3.52,1.54,73.36,0.66,7.90,0.00,0.00,2'])\n",
      "(139, ['140,1.51674,12.87,3.56,1.64,73.14,0.65,7.99,0.00,0.00,2'])\n",
      "(140, ['141,1.51690,13.33,3.54,1.61,72.54,0.68,8.11,0.00,0.00,2'])\n",
      "(141, ['142,1.51851,13.20,3.63,1.07,72.83,0.57,8.41,0.09,0.17,2'])\n",
      "(142, ['143,1.51662,12.85,3.51,1.44,73.01,0.68,8.23,0.06,0.25,2'])\n",
      "(143, ['144,1.51709,13.00,3.47,1.79,72.72,0.66,8.18,0.00,0.00,2'])\n",
      "(144, ['145,1.51660,12.99,3.18,1.23,72.97,0.58,8.81,0.00,0.24,2'])\n",
      "(145, ['146,1.51839,12.85,3.67,1.24,72.57,0.62,8.68,0.00,0.35,2'])\n",
      "(146, ['147,1.51769,13.65,3.66,1.11,72.77,0.11,8.60,0.00,0.00,3'])\n",
      "(147, ['148,1.51610,13.33,3.53,1.34,72.67,0.56,8.33,0.00,0.00,3'])\n",
      "(148, ['149,1.51670,13.24,3.57,1.38,72.70,0.56,8.44,0.00,0.10,3'])\n",
      "(149, ['150,1.51643,12.16,3.52,1.35,72.89,0.57,8.53,0.00,0.00,3'])\n",
      "(150, ['151,1.51665,13.14,3.45,1.76,72.48,0.60,8.38,0.00,0.17,3'])\n",
      "(151, ['152,1.52127,14.32,3.90,0.83,71.50,0.00,9.49,0.00,0.00,3'])\n",
      "(152, ['153,1.51779,13.64,3.65,0.65,73.00,0.06,8.93,0.00,0.00,3'])\n",
      "(153, ['154,1.51610,13.42,3.40,1.22,72.69,0.59,8.32,0.00,0.00,3'])\n",
      "(154, ['155,1.51694,12.86,3.58,1.31,72.61,0.61,8.79,0.00,0.00,3'])\n",
      "(155, ['156,1.51646,13.04,3.40,1.26,73.01,0.52,8.58,0.00,0.00,3'])\n",
      "(156, ['157,1.51655,13.41,3.39,1.28,72.64,0.52,8.65,0.00,0.00,3'])\n",
      "(157, ['158,1.52121,14.03,3.76,0.58,71.79,0.11,9.65,0.00,0.00,3'])\n",
      "(158, ['159,1.51776,13.53,3.41,1.52,72.04,0.58,8.79,0.00,0.00,3'])\n",
      "(159, ['160,1.51796,13.50,3.36,1.63,71.94,0.57,8.81,0.00,0.09,3'])\n",
      "(160, ['161,1.51832,13.33,3.34,1.54,72.14,0.56,8.99,0.00,0.00,3'])\n",
      "(161, ['162,1.51934,13.64,3.54,0.75,72.65,0.16,8.89,0.15,0.24,3'])\n",
      "(162, ['163,1.52211,14.19,3.78,0.91,71.36,0.23,9.14,0.00,0.37,3'])\n",
      "(163, ['164,1.51514,14.01,2.68,3.50,69.89,1.68,5.87,2.20,0.00,5'])\n",
      "(164, ['165,1.51915,12.73,1.85,1.86,72.69,0.60,10.09,0.00,0.00,5'])\n",
      "(165, ['166,1.52171,11.56,1.88,1.56,72.86,0.47,11.41,0.00,0.00,5'])\n",
      "(166, ['167,1.52151,11.03,1.71,1.56,73.44,0.58,11.62,0.00,0.00,5'])\n",
      "(167, ['168,1.51969,12.64,0.00,1.65,73.75,0.38,11.53,0.00,0.00,5'])\n",
      "(168, ['169,1.51666,12.86,0.00,1.83,73.88,0.97,10.17,0.00,0.00,5'])\n",
      "(169, ['170,1.51994,13.27,0.00,1.76,73.03,0.47,11.32,0.00,0.00,5'])\n",
      "(170, ['171,1.52369,13.44,0.00,1.58,72.22,0.32,12.24,0.00,0.00,5'])\n",
      "(171, ['172,1.51316,13.02,0.00,3.04,70.48,6.21,6.96,0.00,0.00,5'])\n",
      "(172, ['173,1.51321,13.00,0.00,3.02,70.70,6.21,6.93,0.00,0.00,5'])\n",
      "(173, ['174,1.52043,13.38,0.00,1.40,72.25,0.33,12.50,0.00,0.00,5'])\n",
      "(174, ['175,1.52058,12.85,1.61,2.17,72.18,0.76,9.70,0.24,0.51,5'])\n",
      "(175, ['176,1.52119,12.97,0.33,1.51,73.39,0.13,11.27,0.00,0.28,5'])\n",
      "(176, ['177,1.51905,14.00,2.39,1.56,72.37,0.00,9.57,0.00,0.00,6'])\n",
      "(177, ['178,1.51937,13.79,2.41,1.19,72.76,0.00,9.77,0.00,0.00,6'])\n",
      "(178, ['179,1.51829,14.46,2.24,1.62,72.38,0.00,9.26,0.00,0.00,6'])\n",
      "(179, ['180,1.51852,14.09,2.19,1.66,72.67,0.00,9.32,0.00,0.00,6'])\n",
      "(180, ['181,1.51299,14.40,1.74,1.54,74.55,0.00,7.59,0.00,0.00,6'])\n",
      "(181, ['182,1.51888,14.99,0.78,1.74,72.50,0.00,9.95,0.00,0.00,6'])\n",
      "(182, ['183,1.51916,14.15,0.00,2.09,72.74,0.00,10.88,0.00,0.00,6'])\n",
      "(183, ['184,1.51969,14.56,0.00,0.56,73.48,0.00,11.22,0.00,0.00,6'])\n",
      "(184, ['185,1.51115,17.38,0.00,0.34,75.41,0.00,6.65,0.00,0.00,6'])\n",
      "(185, ['186,1.51131,13.69,3.20,1.81,72.81,1.76,5.43,1.19,0.00,7'])\n",
      "(186, ['187,1.51838,14.32,3.26,2.22,71.25,1.46,5.79,1.63,0.00,7'])\n",
      "(187, ['188,1.52315,13.44,3.34,1.23,72.38,0.60,8.83,0.00,0.00,7'])\n",
      "(188, ['189,1.52247,14.86,2.20,2.06,70.26,0.76,9.76,0.00,0.00,7'])\n",
      "(189, ['190,1.52365,15.79,1.83,1.31,70.43,0.31,8.61,1.68,0.00,7'])\n",
      "(190, ['191,1.51613,13.88,1.78,1.79,73.10,0.00,8.67,0.76,0.00,7'])\n",
      "(191, ['192,1.51602,14.85,0.00,2.38,73.28,0.00,8.76,0.64,0.09,7'])\n",
      "(192, ['193,1.51623,14.20,0.00,2.79,73.46,0.04,9.04,0.40,0.09,7'])\n",
      "(193, ['194,1.51719,14.75,0.00,2.00,73.02,0.00,8.53,1.59,0.08,7'])\n",
      "(194, ['195,1.51683,14.56,0.00,1.98,73.29,0.00,8.52,1.57,0.07,7'])\n",
      "(195, ['196,1.51545,14.14,0.00,2.68,73.39,0.08,9.07,0.61,0.05,7'])\n",
      "(196, ['197,1.51556,13.87,0.00,2.54,73.23,0.14,9.41,0.81,0.01,7'])\n",
      "(197, ['198,1.51727,14.70,0.00,2.34,73.28,0.00,8.95,0.66,0.00,7'])\n",
      "(198, ['199,1.51531,14.38,0.00,2.66,73.10,0.04,9.08,0.64,0.00,7'])\n",
      "(199, ['200,1.51609,15.01,0.00,2.51,73.05,0.05,8.83,0.53,0.00,7'])\n",
      "(200, ['201,1.51508,15.15,0.00,2.25,73.50,0.00,8.34,0.63,0.00,7'])\n",
      "(201, ['202,1.51653,11.95,0.00,1.19,75.18,2.70,8.93,0.00,0.00,7'])\n",
      "(202, ['203,1.51514,14.85,0.00,2.42,73.72,0.00,8.39,0.56,0.00,7'])\n",
      "(203, ['204,1.51658,14.80,0.00,1.99,73.11,0.00,8.28,1.71,0.00,7'])\n",
      "(204, ['205,1.51617,14.95,0.00,2.27,73.30,0.00,8.71,0.67,0.00,7'])\n",
      "(205, ['206,1.51732,14.95,0.00,1.80,72.99,0.00,8.61,1.55,0.00,7'])\n",
      "(206, ['207,1.51645,14.94,0.00,1.87,73.11,0.00,8.67,1.38,0.00,7'])\n",
      "(207, ['208,1.51831,14.39,0.00,1.82,72.86,1.41,6.47,2.88,0.00,7'])\n",
      "(208, ['209,1.51640,14.37,0.00,2.74,72.85,0.00,9.45,0.54,0.00,7'])\n",
      "(209, ['210,1.51623,14.14,0.00,2.88,72.61,0.08,9.18,1.06,0.00,7'])\n",
      "(210, ['211,1.51685,14.92,0.00,1.99,73.06,0.00,8.40,1.59,0.00,7'])\n",
      "(211, ['212,1.52065,14.36,0.00,2.02,73.42,0.00,8.44,1.64,0.00,7'])\n",
      "(212, ['213,1.51651,14.38,0.00,1.94,73.61,0.00,8.48,1.57,0.00,7'])\n",
      "(213, ['214,1.51711,14.23,0.00,2.08,73.36,0.00,8.62,1.67,0.00,7'])\n",
      "All data inserted\n"
     ]
    }
   ],
   "source": [
    "with open(\"glass.data\", \"r\") as data:\n",
    "    data_csv = csv.reader(data, delimiter = \"\\n\")\n",
    "    next(data)\n",
    "    print(data_csv)\n",
    "    for i in enumerate(data_csv):\n",
    "        print(i)\n",
    "        for j in i[1]:\n",
    "            cur.execute(\"insert into student.GlassData1 values({data})\".format(data=(j)))\n",
    "    print(\"All data inserted\")\n",
    "mydb.commit()\n",
    "            "
   ]
  },
  {
   "cell_type": "code",
   "execution_count": 131,
   "id": "b53a1d27",
   "metadata": {},
   "outputs": [
    {
     "name": "stdout",
     "output_type": "stream",
     "text": [
      "<_csv.reader object at 0x000001BCD7C9C640>\n",
      "['1,1.52101,13.64,4.49,1.10,71.78,0.06,8.75,0.00,0.00,1'] <class 'list'>\n",
      "['2,1.51761,13.89,3.60,1.36,72.73,0.48,7.83,0.00,0.00,1'] <class 'list'>\n",
      "['3,1.51618,13.53,3.55,1.54,72.99,0.39,7.78,0.00,0.00,1'] <class 'list'>\n",
      "['4,1.51766,13.21,3.69,1.29,72.61,0.57,8.22,0.00,0.00,1'] <class 'list'>\n",
      "['5,1.51742,13.27,3.62,1.24,73.08,0.55,8.07,0.00,0.00,1'] <class 'list'>\n",
      "['6,1.51596,12.79,3.61,1.62,72.97,0.64,8.07,0.00,0.26,1'] <class 'list'>\n",
      "['7,1.51743,13.30,3.60,1.14,73.09,0.58,8.17,0.00,0.00,1'] <class 'list'>\n",
      "['8,1.51756,13.15,3.61,1.05,73.24,0.57,8.24,0.00,0.00,1'] <class 'list'>\n",
      "['9,1.51918,14.04,3.58,1.37,72.08,0.56,8.30,0.00,0.00,1'] <class 'list'>\n",
      "['10,1.51755,13.00,3.60,1.36,72.99,0.57,8.40,0.00,0.11,1'] <class 'list'>\n",
      "['11,1.51571,12.72,3.46,1.56,73.20,0.67,8.09,0.00,0.24,1'] <class 'list'>\n",
      "['12,1.51763,12.80,3.66,1.27,73.01,0.60,8.56,0.00,0.00,1'] <class 'list'>\n",
      "['13,1.51589,12.88,3.43,1.40,73.28,0.69,8.05,0.00,0.24,1'] <class 'list'>\n",
      "['14,1.51748,12.86,3.56,1.27,73.21,0.54,8.38,0.00,0.17,1'] <class 'list'>\n",
      "['15,1.51763,12.61,3.59,1.31,73.29,0.58,8.50,0.00,0.00,1'] <class 'list'>\n",
      "['16,1.51761,12.81,3.54,1.23,73.24,0.58,8.39,0.00,0.00,1'] <class 'list'>\n",
      "['17,1.51784,12.68,3.67,1.16,73.11,0.61,8.70,0.00,0.00,1'] <class 'list'>\n",
      "['18,1.52196,14.36,3.85,0.89,71.36,0.15,9.15,0.00,0.00,1'] <class 'list'>\n",
      "['19,1.51911,13.90,3.73,1.18,72.12,0.06,8.89,0.00,0.00,1'] <class 'list'>\n",
      "['20,1.51735,13.02,3.54,1.69,72.73,0.54,8.44,0.00,0.07,1'] <class 'list'>\n",
      "['21,1.51750,12.82,3.55,1.49,72.75,0.54,8.52,0.00,0.19,1'] <class 'list'>\n",
      "['22,1.51966,14.77,3.75,0.29,72.02,0.03,9.00,0.00,0.00,1'] <class 'list'>\n",
      "['23,1.51736,12.78,3.62,1.29,72.79,0.59,8.70,0.00,0.00,1'] <class 'list'>\n",
      "['24,1.51751,12.81,3.57,1.35,73.02,0.62,8.59,0.00,0.00,1'] <class 'list'>\n",
      "['25,1.51720,13.38,3.50,1.15,72.85,0.50,8.43,0.00,0.00,1'] <class 'list'>\n",
      "['26,1.51764,12.98,3.54,1.21,73.00,0.65,8.53,0.00,0.00,1'] <class 'list'>\n",
      "['27,1.51793,13.21,3.48,1.41,72.64,0.59,8.43,0.00,0.00,1'] <class 'list'>\n",
      "['28,1.51721,12.87,3.48,1.33,73.04,0.56,8.43,0.00,0.00,1'] <class 'list'>\n",
      "['29,1.51768,12.56,3.52,1.43,73.15,0.57,8.54,0.00,0.00,1'] <class 'list'>\n",
      "['30,1.51784,13.08,3.49,1.28,72.86,0.60,8.49,0.00,0.00,1'] <class 'list'>\n",
      "['31,1.51768,12.65,3.56,1.30,73.08,0.61,8.69,0.00,0.14,1'] <class 'list'>\n",
      "['32,1.51747,12.84,3.50,1.14,73.27,0.56,8.55,0.00,0.00,1'] <class 'list'>\n",
      "['33,1.51775,12.85,3.48,1.23,72.97,0.61,8.56,0.09,0.22,1'] <class 'list'>\n",
      "['34,1.51753,12.57,3.47,1.38,73.39,0.60,8.55,0.00,0.06,1'] <class 'list'>\n",
      "['35,1.51783,12.69,3.54,1.34,72.95,0.57,8.75,0.00,0.00,1'] <class 'list'>\n",
      "['36,1.51567,13.29,3.45,1.21,72.74,0.56,8.57,0.00,0.00,1'] <class 'list'>\n",
      "['37,1.51909,13.89,3.53,1.32,71.81,0.51,8.78,0.11,0.00,1'] <class 'list'>\n",
      "['38,1.51797,12.74,3.48,1.35,72.96,0.64,8.68,0.00,0.00,1'] <class 'list'>\n",
      "['39,1.52213,14.21,3.82,0.47,71.77,0.11,9.57,0.00,0.00,1'] <class 'list'>\n",
      "['40,1.52213,14.21,3.82,0.47,71.77,0.11,9.57,0.00,0.00,1'] <class 'list'>\n",
      "['41,1.51793,12.79,3.50,1.12,73.03,0.64,8.77,0.00,0.00,1'] <class 'list'>\n",
      "['42,1.51755,12.71,3.42,1.20,73.20,0.59,8.64,0.00,0.00,1'] <class 'list'>\n",
      "['43,1.51779,13.21,3.39,1.33,72.76,0.59,8.59,0.00,0.00,1'] <class 'list'>\n",
      "['44,1.52210,13.73,3.84,0.72,71.76,0.17,9.74,0.00,0.00,1'] <class 'list'>\n",
      "['45,1.51786,12.73,3.43,1.19,72.95,0.62,8.76,0.00,0.30,1'] <class 'list'>\n",
      "['46,1.51900,13.49,3.48,1.35,71.95,0.55,9.00,0.00,0.00,1'] <class 'list'>\n",
      "['47,1.51869,13.19,3.37,1.18,72.72,0.57,8.83,0.00,0.16,1'] <class 'list'>\n",
      "['48,1.52667,13.99,3.70,0.71,71.57,0.02,9.82,0.00,0.10,1'] <class 'list'>\n",
      "['49,1.52223,13.21,3.77,0.79,71.99,0.13,10.02,0.00,0.00,1'] <class 'list'>\n",
      "['50,1.51898,13.58,3.35,1.23,72.08,0.59,8.91,0.00,0.00,1'] <class 'list'>\n",
      "['51,1.52320,13.72,3.72,0.51,71.75,0.09,10.06,0.00,0.16,1'] <class 'list'>\n",
      "['52,1.51926,13.20,3.33,1.28,72.36,0.60,9.14,0.00,0.11,1'] <class 'list'>\n",
      "['53,1.51808,13.43,2.87,1.19,72.84,0.55,9.03,0.00,0.00,1'] <class 'list'>\n",
      "['54,1.51837,13.14,2.84,1.28,72.85,0.55,9.07,0.00,0.00,1'] <class 'list'>\n",
      "['55,1.51778,13.21,2.81,1.29,72.98,0.51,9.02,0.00,0.09,1'] <class 'list'>\n",
      "['56,1.51769,12.45,2.71,1.29,73.70,0.56,9.06,0.00,0.24,1'] <class 'list'>\n",
      "['57,1.51215,12.99,3.47,1.12,72.98,0.62,8.35,0.00,0.31,1'] <class 'list'>\n",
      "['58,1.51824,12.87,3.48,1.29,72.95,0.60,8.43,0.00,0.00,1'] <class 'list'>\n",
      "['59,1.51754,13.48,3.74,1.17,72.99,0.59,8.03,0.00,0.00,1'] <class 'list'>\n",
      "['60,1.51754,13.39,3.66,1.19,72.79,0.57,8.27,0.00,0.11,1'] <class 'list'>\n",
      "['61,1.51905,13.60,3.62,1.11,72.64,0.14,8.76,0.00,0.00,1'] <class 'list'>\n",
      "['62,1.51977,13.81,3.58,1.32,71.72,0.12,8.67,0.69,0.00,1'] <class 'list'>\n",
      "['63,1.52172,13.51,3.86,0.88,71.79,0.23,9.54,0.00,0.11,1'] <class 'list'>\n",
      "['64,1.52227,14.17,3.81,0.78,71.35,0.00,9.69,0.00,0.00,1'] <class 'list'>\n",
      "['65,1.52172,13.48,3.74,0.90,72.01,0.18,9.61,0.00,0.07,1'] <class 'list'>\n",
      "['66,1.52099,13.69,3.59,1.12,71.96,0.09,9.40,0.00,0.00,1'] <class 'list'>\n",
      "['67,1.52152,13.05,3.65,0.87,72.22,0.19,9.85,0.00,0.17,1'] <class 'list'>\n",
      "['68,1.52152,13.05,3.65,0.87,72.32,0.19,9.85,0.00,0.17,1'] <class 'list'>\n",
      "['69,1.52152,13.12,3.58,0.90,72.20,0.23,9.82,0.00,0.16,1'] <class 'list'>\n",
      "['70,1.52300,13.31,3.58,0.82,71.99,0.12,10.17,0.00,0.03,1'] <class 'list'>\n",
      "['71,1.51574,14.86,3.67,1.74,71.87,0.16,7.36,0.00,0.12,2'] <class 'list'>\n",
      "['72,1.51848,13.64,3.87,1.27,71.96,0.54,8.32,0.00,0.32,2'] <class 'list'>\n",
      "['73,1.51593,13.09,3.59,1.52,73.10,0.67,7.83,0.00,0.00,2'] <class 'list'>\n",
      "['74,1.51631,13.34,3.57,1.57,72.87,0.61,7.89,0.00,0.00,2'] <class 'list'>\n",
      "['75,1.51596,13.02,3.56,1.54,73.11,0.72,7.90,0.00,0.00,2'] <class 'list'>\n",
      "['76,1.51590,13.02,3.58,1.51,73.12,0.69,7.96,0.00,0.00,2'] <class 'list'>\n",
      "['77,1.51645,13.44,3.61,1.54,72.39,0.66,8.03,0.00,0.00,2'] <class 'list'>\n",
      "['78,1.51627,13.00,3.58,1.54,72.83,0.61,8.04,0.00,0.00,2'] <class 'list'>\n",
      "['79,1.51613,13.92,3.52,1.25,72.88,0.37,7.94,0.00,0.14,2'] <class 'list'>\n",
      "['80,1.51590,12.82,3.52,1.90,72.86,0.69,7.97,0.00,0.00,2'] <class 'list'>\n",
      "['81,1.51592,12.86,3.52,2.12,72.66,0.69,7.97,0.00,0.00,2'] <class 'list'>\n",
      "['82,1.51593,13.25,3.45,1.43,73.17,0.61,7.86,0.00,0.00,2'] <class 'list'>\n",
      "['83,1.51646,13.41,3.55,1.25,72.81,0.68,8.10,0.00,0.00,2'] <class 'list'>\n",
      "['84,1.51594,13.09,3.52,1.55,72.87,0.68,8.05,0.00,0.09,2'] <class 'list'>\n",
      "['85,1.51409,14.25,3.09,2.08,72.28,1.10,7.08,0.00,0.00,2'] <class 'list'>\n",
      "['86,1.51625,13.36,3.58,1.49,72.72,0.45,8.21,0.00,0.00,2'] <class 'list'>\n",
      "['87,1.51569,13.24,3.49,1.47,73.25,0.38,8.03,0.00,0.00,2'] <class 'list'>\n",
      "['88,1.51645,13.40,3.49,1.52,72.65,0.67,8.08,0.00,0.10,2'] <class 'list'>\n",
      "['89,1.51618,13.01,3.50,1.48,72.89,0.60,8.12,0.00,0.00,2'] <class 'list'>\n",
      "['90,1.51640,12.55,3.48,1.87,73.23,0.63,8.08,0.00,0.09,2'] <class 'list'>\n",
      "['91,1.51841,12.93,3.74,1.11,72.28,0.64,8.96,0.00,0.22,2'] <class 'list'>\n",
      "['92,1.51605,12.90,3.44,1.45,73.06,0.44,8.27,0.00,0.00,2'] <class 'list'>\n",
      "['93,1.51588,13.12,3.41,1.58,73.26,0.07,8.39,0.00,0.19,2'] <class 'list'>\n",
      "['94,1.51590,13.24,3.34,1.47,73.10,0.39,8.22,0.00,0.00,2'] <class 'list'>\n",
      "['95,1.51629,12.71,3.33,1.49,73.28,0.67,8.24,0.00,0.00,2'] <class 'list'>\n",
      "['96,1.51860,13.36,3.43,1.43,72.26,0.51,8.60,0.00,0.00,2'] <class 'list'>\n",
      "['97,1.51841,13.02,3.62,1.06,72.34,0.64,9.13,0.00,0.15,2'] <class 'list'>\n",
      "['98,1.51743,12.20,3.25,1.16,73.55,0.62,8.90,0.00,0.24,2'] <class 'list'>\n",
      "['99,1.51689,12.67,2.88,1.71,73.21,0.73,8.54,0.00,0.00,2'] <class 'list'>\n",
      "['100,1.51811,12.96,2.96,1.43,72.92,0.60,8.79,0.14,0.00,2'] <class 'list'>\n",
      "['101,1.51655,12.75,2.85,1.44,73.27,0.57,8.79,0.11,0.22,2'] <class 'list'>\n",
      "['102,1.51730,12.35,2.72,1.63,72.87,0.70,9.23,0.00,0.00,2'] <class 'list'>\n",
      "['103,1.51820,12.62,2.76,0.83,73.81,0.35,9.42,0.00,0.20,2'] <class 'list'>\n",
      "['104,1.52725,13.80,3.15,0.66,70.57,0.08,11.64,0.00,0.00,2'] <class 'list'>\n",
      "['105,1.52410,13.83,2.90,1.17,71.15,0.08,10.79,0.00,0.00,2'] <class 'list'>\n",
      "['106,1.52475,11.45,0.00,1.88,72.19,0.81,13.24,0.00,0.34,2'] <class 'list'>\n",
      "['107,1.53125,10.73,0.00,2.10,69.81,0.58,13.30,3.15,0.28,2'] <class 'list'>\n",
      "['108,1.53393,12.30,0.00,1.00,70.16,0.12,16.19,0.00,0.24,2'] <class 'list'>\n",
      "['109,1.52222,14.43,0.00,1.00,72.67,0.10,11.52,0.00,0.08,2'] <class 'list'>\n",
      "['110,1.51818,13.72,0.00,0.56,74.45,0.00,10.99,0.00,0.00,2'] <class 'list'>\n",
      "['111,1.52664,11.23,0.00,0.77,73.21,0.00,14.68,0.00,0.00,2'] <class 'list'>\n",
      "['112,1.52739,11.02,0.00,0.75,73.08,0.00,14.96,0.00,0.00,2'] <class 'list'>\n",
      "['113,1.52777,12.64,0.00,0.67,72.02,0.06,14.40,0.00,0.00,2'] <class 'list'>\n",
      "['114,1.51892,13.46,3.83,1.26,72.55,0.57,8.21,0.00,0.14,2'] <class 'list'>\n"
     ]
    },
    {
     "name": "stdout",
     "output_type": "stream",
     "text": [
      "['115,1.51847,13.10,3.97,1.19,72.44,0.60,8.43,0.00,0.00,2'] <class 'list'>\n",
      "['116,1.51846,13.41,3.89,1.33,72.38,0.51,8.28,0.00,0.00,2'] <class 'list'>\n",
      "['117,1.51829,13.24,3.90,1.41,72.33,0.55,8.31,0.00,0.10,2'] <class 'list'>\n",
      "['118,1.51708,13.72,3.68,1.81,72.06,0.64,7.88,0.00,0.00,2'] <class 'list'>\n",
      "['119,1.51673,13.30,3.64,1.53,72.53,0.65,8.03,0.00,0.29,2'] <class 'list'>\n",
      "['120,1.51652,13.56,3.57,1.47,72.45,0.64,7.96,0.00,0.00,2'] <class 'list'>\n",
      "['121,1.51844,13.25,3.76,1.32,72.40,0.58,8.42,0.00,0.00,2'] <class 'list'>\n",
      "['122,1.51663,12.93,3.54,1.62,72.96,0.64,8.03,0.00,0.21,2'] <class 'list'>\n",
      "['123,1.51687,13.23,3.54,1.48,72.84,0.56,8.10,0.00,0.00,2'] <class 'list'>\n",
      "['124,1.51707,13.48,3.48,1.71,72.52,0.62,7.99,0.00,0.00,2'] <class 'list'>\n",
      "['125,1.52177,13.20,3.68,1.15,72.75,0.54,8.52,0.00,0.00,2'] <class 'list'>\n",
      "['126,1.51872,12.93,3.66,1.56,72.51,0.58,8.55,0.00,0.12,2'] <class 'list'>\n",
      "['127,1.51667,12.94,3.61,1.26,72.75,0.56,8.60,0.00,0.00,2'] <class 'list'>\n",
      "['128,1.52081,13.78,2.28,1.43,71.99,0.49,9.85,0.00,0.17,2'] <class 'list'>\n",
      "['129,1.52068,13.55,2.09,1.67,72.18,0.53,9.57,0.27,0.17,2'] <class 'list'>\n",
      "['130,1.52020,13.98,1.35,1.63,71.76,0.39,10.56,0.00,0.18,2'] <class 'list'>\n",
      "['131,1.52177,13.75,1.01,1.36,72.19,0.33,11.14,0.00,0.00,2'] <class 'list'>\n",
      "['132,1.52614,13.70,0.00,1.36,71.24,0.19,13.44,0.00,0.10,2'] <class 'list'>\n",
      "['133,1.51813,13.43,3.98,1.18,72.49,0.58,8.15,0.00,0.00,2'] <class 'list'>\n",
      "['134,1.51800,13.71,3.93,1.54,71.81,0.54,8.21,0.00,0.15,2'] <class 'list'>\n",
      "['135,1.51811,13.33,3.85,1.25,72.78,0.52,8.12,0.00,0.00,2'] <class 'list'>\n",
      "['136,1.51789,13.19,3.90,1.30,72.33,0.55,8.44,0.00,0.28,2'] <class 'list'>\n",
      "['137,1.51806,13.00,3.80,1.08,73.07,0.56,8.38,0.00,0.12,2'] <class 'list'>\n",
      "['138,1.51711,12.89,3.62,1.57,72.96,0.61,8.11,0.00,0.00,2'] <class 'list'>\n",
      "['139,1.51674,12.79,3.52,1.54,73.36,0.66,7.90,0.00,0.00,2'] <class 'list'>\n",
      "['140,1.51674,12.87,3.56,1.64,73.14,0.65,7.99,0.00,0.00,2'] <class 'list'>\n",
      "['141,1.51690,13.33,3.54,1.61,72.54,0.68,8.11,0.00,0.00,2'] <class 'list'>\n",
      "['142,1.51851,13.20,3.63,1.07,72.83,0.57,8.41,0.09,0.17,2'] <class 'list'>\n",
      "['143,1.51662,12.85,3.51,1.44,73.01,0.68,8.23,0.06,0.25,2'] <class 'list'>\n",
      "['144,1.51709,13.00,3.47,1.79,72.72,0.66,8.18,0.00,0.00,2'] <class 'list'>\n",
      "['145,1.51660,12.99,3.18,1.23,72.97,0.58,8.81,0.00,0.24,2'] <class 'list'>\n",
      "['146,1.51839,12.85,3.67,1.24,72.57,0.62,8.68,0.00,0.35,2'] <class 'list'>\n",
      "['147,1.51769,13.65,3.66,1.11,72.77,0.11,8.60,0.00,0.00,3'] <class 'list'>\n",
      "['148,1.51610,13.33,3.53,1.34,72.67,0.56,8.33,0.00,0.00,3'] <class 'list'>\n",
      "['149,1.51670,13.24,3.57,1.38,72.70,0.56,8.44,0.00,0.10,3'] <class 'list'>\n",
      "['150,1.51643,12.16,3.52,1.35,72.89,0.57,8.53,0.00,0.00,3'] <class 'list'>\n",
      "['151,1.51665,13.14,3.45,1.76,72.48,0.60,8.38,0.00,0.17,3'] <class 'list'>\n",
      "['152,1.52127,14.32,3.90,0.83,71.50,0.00,9.49,0.00,0.00,3'] <class 'list'>\n",
      "['153,1.51779,13.64,3.65,0.65,73.00,0.06,8.93,0.00,0.00,3'] <class 'list'>\n",
      "['154,1.51610,13.42,3.40,1.22,72.69,0.59,8.32,0.00,0.00,3'] <class 'list'>\n",
      "['155,1.51694,12.86,3.58,1.31,72.61,0.61,8.79,0.00,0.00,3'] <class 'list'>\n",
      "['156,1.51646,13.04,3.40,1.26,73.01,0.52,8.58,0.00,0.00,3'] <class 'list'>\n",
      "['157,1.51655,13.41,3.39,1.28,72.64,0.52,8.65,0.00,0.00,3'] <class 'list'>\n",
      "['158,1.52121,14.03,3.76,0.58,71.79,0.11,9.65,0.00,0.00,3'] <class 'list'>\n",
      "['159,1.51776,13.53,3.41,1.52,72.04,0.58,8.79,0.00,0.00,3'] <class 'list'>\n",
      "['160,1.51796,13.50,3.36,1.63,71.94,0.57,8.81,0.00,0.09,3'] <class 'list'>\n",
      "['161,1.51832,13.33,3.34,1.54,72.14,0.56,8.99,0.00,0.00,3'] <class 'list'>\n",
      "['162,1.51934,13.64,3.54,0.75,72.65,0.16,8.89,0.15,0.24,3'] <class 'list'>\n",
      "['163,1.52211,14.19,3.78,0.91,71.36,0.23,9.14,0.00,0.37,3'] <class 'list'>\n",
      "['164,1.51514,14.01,2.68,3.50,69.89,1.68,5.87,2.20,0.00,5'] <class 'list'>\n",
      "['165,1.51915,12.73,1.85,1.86,72.69,0.60,10.09,0.00,0.00,5'] <class 'list'>\n",
      "['166,1.52171,11.56,1.88,1.56,72.86,0.47,11.41,0.00,0.00,5'] <class 'list'>\n",
      "['167,1.52151,11.03,1.71,1.56,73.44,0.58,11.62,0.00,0.00,5'] <class 'list'>\n",
      "['168,1.51969,12.64,0.00,1.65,73.75,0.38,11.53,0.00,0.00,5'] <class 'list'>\n",
      "['169,1.51666,12.86,0.00,1.83,73.88,0.97,10.17,0.00,0.00,5'] <class 'list'>\n",
      "['170,1.51994,13.27,0.00,1.76,73.03,0.47,11.32,0.00,0.00,5'] <class 'list'>\n",
      "['171,1.52369,13.44,0.00,1.58,72.22,0.32,12.24,0.00,0.00,5'] <class 'list'>\n",
      "['172,1.51316,13.02,0.00,3.04,70.48,6.21,6.96,0.00,0.00,5'] <class 'list'>\n",
      "['173,1.51321,13.00,0.00,3.02,70.70,6.21,6.93,0.00,0.00,5'] <class 'list'>\n",
      "['174,1.52043,13.38,0.00,1.40,72.25,0.33,12.50,0.00,0.00,5'] <class 'list'>\n",
      "['175,1.52058,12.85,1.61,2.17,72.18,0.76,9.70,0.24,0.51,5'] <class 'list'>\n",
      "['176,1.52119,12.97,0.33,1.51,73.39,0.13,11.27,0.00,0.28,5'] <class 'list'>\n",
      "['177,1.51905,14.00,2.39,1.56,72.37,0.00,9.57,0.00,0.00,6'] <class 'list'>\n",
      "['178,1.51937,13.79,2.41,1.19,72.76,0.00,9.77,0.00,0.00,6'] <class 'list'>\n",
      "['179,1.51829,14.46,2.24,1.62,72.38,0.00,9.26,0.00,0.00,6'] <class 'list'>\n",
      "['180,1.51852,14.09,2.19,1.66,72.67,0.00,9.32,0.00,0.00,6'] <class 'list'>\n",
      "['181,1.51299,14.40,1.74,1.54,74.55,0.00,7.59,0.00,0.00,6'] <class 'list'>\n",
      "['182,1.51888,14.99,0.78,1.74,72.50,0.00,9.95,0.00,0.00,6'] <class 'list'>\n",
      "['183,1.51916,14.15,0.00,2.09,72.74,0.00,10.88,0.00,0.00,6'] <class 'list'>\n",
      "['184,1.51969,14.56,0.00,0.56,73.48,0.00,11.22,0.00,0.00,6'] <class 'list'>\n",
      "['185,1.51115,17.38,0.00,0.34,75.41,0.00,6.65,0.00,0.00,6'] <class 'list'>\n",
      "['186,1.51131,13.69,3.20,1.81,72.81,1.76,5.43,1.19,0.00,7'] <class 'list'>\n",
      "['187,1.51838,14.32,3.26,2.22,71.25,1.46,5.79,1.63,0.00,7'] <class 'list'>\n",
      "['188,1.52315,13.44,3.34,1.23,72.38,0.60,8.83,0.00,0.00,7'] <class 'list'>\n",
      "['189,1.52247,14.86,2.20,2.06,70.26,0.76,9.76,0.00,0.00,7'] <class 'list'>\n",
      "['190,1.52365,15.79,1.83,1.31,70.43,0.31,8.61,1.68,0.00,7'] <class 'list'>\n",
      "['191,1.51613,13.88,1.78,1.79,73.10,0.00,8.67,0.76,0.00,7'] <class 'list'>\n",
      "['192,1.51602,14.85,0.00,2.38,73.28,0.00,8.76,0.64,0.09,7'] <class 'list'>\n",
      "['193,1.51623,14.20,0.00,2.79,73.46,0.04,9.04,0.40,0.09,7'] <class 'list'>\n",
      "['194,1.51719,14.75,0.00,2.00,73.02,0.00,8.53,1.59,0.08,7'] <class 'list'>\n",
      "['195,1.51683,14.56,0.00,1.98,73.29,0.00,8.52,1.57,0.07,7'] <class 'list'>\n",
      "['196,1.51545,14.14,0.00,2.68,73.39,0.08,9.07,0.61,0.05,7'] <class 'list'>\n",
      "['197,1.51556,13.87,0.00,2.54,73.23,0.14,9.41,0.81,0.01,7'] <class 'list'>\n",
      "['198,1.51727,14.70,0.00,2.34,73.28,0.00,8.95,0.66,0.00,7'] <class 'list'>\n",
      "['199,1.51531,14.38,0.00,2.66,73.10,0.04,9.08,0.64,0.00,7'] <class 'list'>\n",
      "['200,1.51609,15.01,0.00,2.51,73.05,0.05,8.83,0.53,0.00,7'] <class 'list'>\n",
      "['201,1.51508,15.15,0.00,2.25,73.50,0.00,8.34,0.63,0.00,7'] <class 'list'>\n",
      "['202,1.51653,11.95,0.00,1.19,75.18,2.70,8.93,0.00,0.00,7'] <class 'list'>\n",
      "['203,1.51514,14.85,0.00,2.42,73.72,0.00,8.39,0.56,0.00,7'] <class 'list'>\n",
      "['204,1.51658,14.80,0.00,1.99,73.11,0.00,8.28,1.71,0.00,7'] <class 'list'>\n",
      "['205,1.51617,14.95,0.00,2.27,73.30,0.00,8.71,0.67,0.00,7'] <class 'list'>\n",
      "['206,1.51732,14.95,0.00,1.80,72.99,0.00,8.61,1.55,0.00,7'] <class 'list'>\n",
      "['207,1.51645,14.94,0.00,1.87,73.11,0.00,8.67,1.38,0.00,7'] <class 'list'>\n",
      "['208,1.51831,14.39,0.00,1.82,72.86,1.41,6.47,2.88,0.00,7'] <class 'list'>\n",
      "['209,1.51640,14.37,0.00,2.74,72.85,0.00,9.45,0.54,0.00,7'] <class 'list'>\n",
      "['210,1.51623,14.14,0.00,2.88,72.61,0.08,9.18,1.06,0.00,7'] <class 'list'>\n",
      "['211,1.51685,14.92,0.00,1.99,73.06,0.00,8.40,1.59,0.00,7'] <class 'list'>\n",
      "['212,1.52065,14.36,0.00,2.02,73.42,0.00,8.44,1.64,0.00,7'] <class 'list'>\n",
      "['213,1.51651,14.38,0.00,1.94,73.61,0.00,8.48,1.57,0.00,7'] <class 'list'>\n",
      "['214,1.51711,14.23,0.00,2.08,73.36,0.00,8.62,1.67,0.00,7'] <class 'list'>\n",
      "All data inserted\n"
     ]
    }
   ],
   "source": [
    "with open(\"glass.data\", \"r\") as data:\n",
    "    data_csv = csv.reader(data, delimiter = \"\\n\")\n",
    "    next(data)\n",
    "    print(data_csv)\n",
    "    for j in data_csv:\n",
    "        print(j, type(j))\n",
    "        cur.execute(\"insert into student.GlassData1 values({data})\".format(data=(j[0])))\n",
    "    print(\"All data inserted\")\n",
    "mydb.commit()"
   ]
  },
  {
   "cell_type": "code",
   "execution_count": 132,
   "id": "ea3808cf",
   "metadata": {},
   "outputs": [],
   "source": [
    "mydb = connection.connect(host = \"localhost\", database = \"STUDENT\", user = \"root\", passwd = \"WXpPa1mf^&*\", use_pure = True\n",
    "                        )"
   ]
  },
  {
   "cell_type": "code",
   "execution_count": 134,
   "id": "66cf953c",
   "metadata": {},
   "outputs": [],
   "source": [
    "cur = mydb.cursor()"
   ]
  },
  {
   "cell_type": "code",
   "execution_count": 137,
   "id": "e38654b7",
   "metadata": {},
   "outputs": [],
   "source": [
    "cur.execute(\"create table student.Contact(sno int(5), name varchar(20), phone int(20), message varchar(120), date DATE, email varchar(30))\")"
   ]
  },
  {
   "cell_type": "code",
   "execution_count": 138,
   "id": "771f9a35",
   "metadata": {},
   "outputs": [],
   "source": [
    "mydb = connection.connect(host = \"localhost\", database = \"STUDENT\", user = \"root\", passwd = \"WXpPa1mf^&*\", use_pure = True\n",
    "                        )"
   ]
  },
  {
   "cell_type": "code",
   "execution_count": 139,
   "id": "272a76e5",
   "metadata": {},
   "outputs": [],
   "source": [
    "cur = mydb.cursor()"
   ]
  },
  {
   "cell_type": "code",
   "execution_count": 142,
   "id": "6e99a4d5",
   "metadata": {},
   "outputs": [],
   "source": [
    "cur.execute(\"insert into student.Contact values(1, 'kunal', 951910500, 'hello', '2021-09-08', 'vermakunal875')\")"
   ]
  },
  {
   "cell_type": "code",
   "execution_count": 143,
   "id": "4e3f0819",
   "metadata": {},
   "outputs": [],
   "source": [
    "mydb.commit()"
   ]
  },
  {
   "cell_type": "code",
   "execution_count": 145,
   "id": "de587829",
   "metadata": {},
   "outputs": [
    {
     "name": "stdout",
     "output_type": "stream",
     "text": [
      "Collecting MySQL-pythonNote: you may need to restart the kernel to use updated packages.\n"
     ]
    },
    {
     "name": "stderr",
     "output_type": "stream",
     "text": [
      "  ERROR: Command errored out with exit status 1:\n",
      "   command: 'C:\\Users\\Hp\\anaconda3\\python.exe' -u -c 'import sys, setuptools, tokenize; sys.argv[0] = '\"'\"'C:\\\\Users\\\\Hp\\\\AppData\\\\Local\\\\Temp\\\\pip-install-91cj3g_t\\\\mysql-python_e21c5fa4b1b84399917dae74a088b3c5\\\\setup.py'\"'\"'; __file__='\"'\"'C:\\\\Users\\\\Hp\\\\AppData\\\\Local\\\\Temp\\\\pip-install-91cj3g_t\\\\mysql-python_e21c5fa4b1b84399917dae74a088b3c5\\\\setup.py'\"'\"';f=getattr(tokenize, '\"'\"'open'\"'\"', open)(__file__);code=f.read().replace('\"'\"'\\r\\n'\"'\"', '\"'\"'\\n'\"'\"');f.close();exec(compile(code, __file__, '\"'\"'exec'\"'\"'))' bdist_wheel -d 'C:\\Users\\Hp\\AppData\\Local\\Temp\\pip-wheel-t7_hd30t'"
     ]
    },
    {
     "name": "stdout",
     "output_type": "stream",
     "text": [
      "\n",
      "  Downloading MySQL-python-1.2.5.zip (108 kB)\n",
      "Building wheels for collected packages: MySQL-python\n",
      "  Building wheel for MySQL-python (setup.py): started\n",
      "  Building wheel for MySQL-python (setup.py): finished with status 'error'\n",
      "  Running setup.py clean for MySQL-python\n",
      "Failed to build MySQL-python\n",
      "Installing collected packages: MySQL-python\n",
      "    Running setup.py install for MySQL-python: started\n",
      "    Running setup.py install for MySQL-python: finished with status 'error'\n"
     ]
    },
    {
     "name": "stderr",
     "output_type": "stream",
     "text": [
      "\n",
      "       cwd: C:\\Users\\Hp\\AppData\\Local\\Temp\\pip-install-91cj3g_t\\mysql-python_e21c5fa4b1b84399917dae74a088b3c5\\\n",
      "  Complete output (24 lines):\n",
      "  running bdist_wheel\n",
      "  running build\n",
      "  running build_py\n",
      "  creating build\n",
      "  creating build\\lib.win-amd64-3.8\n",
      "  copying _mysql_exceptions.py -> build\\lib.win-amd64-3.8\n",
      "  creating build\\lib.win-amd64-3.8\\MySQLdb\n",
      "  copying MySQLdb\\__init__.py -> build\\lib.win-amd64-3.8\\MySQLdb\n",
      "  copying MySQLdb\\converters.py -> build\\lib.win-amd64-3.8\\MySQLdb\n",
      "  copying MySQLdb\\connections.py -> build\\lib.win-amd64-3.8\\MySQLdb\n",
      "  copying MySQLdb\\cursors.py -> build\\lib.win-amd64-3.8\\MySQLdb\n",
      "  copying MySQLdb\\release.py -> build\\lib.win-amd64-3.8\\MySQLdb\n",
      "  copying MySQLdb\\times.py -> build\\lib.win-amd64-3.8\\MySQLdb\n",
      "  creating build\\lib.win-amd64-3.8\\MySQLdb\\constants\n",
      "  copying MySQLdb\\constants\\__init__.py -> build\\lib.win-amd64-3.8\\MySQLdb\\constants\n",
      "  copying MySQLdb\\constants\\CR.py -> build\\lib.win-amd64-3.8\\MySQLdb\\constants\n",
      "  copying MySQLdb\\constants\\FIELD_TYPE.py -> build\\lib.win-amd64-3.8\\MySQLdb\\constants\n",
      "  copying MySQLdb\\constants\\ER.py -> build\\lib.win-amd64-3.8\\MySQLdb\\constants\n",
      "  copying MySQLdb\\constants\\FLAG.py -> build\\lib.win-amd64-3.8\\MySQLdb\\constants\n",
      "  copying MySQLdb\\constants\\REFRESH.py -> build\\lib.win-amd64-3.8\\MySQLdb\\constants\n",
      "  copying MySQLdb\\constants\\CLIENT.py -> build\\lib.win-amd64-3.8\\MySQLdb\\constants\n",
      "  running build_ext\n",
      "  building '_mysql' extension\n",
      "  error: Microsoft Visual C++ 14.0 or greater is required. Get it with \"Microsoft C++ Build Tools\": https://visualstudio.microsoft.com/visual-cpp-build-tools/\n",
      "  ----------------------------------------\n",
      "  ERROR: Failed building wheel for MySQL-python\n",
      "    ERROR: Command errored out with exit status 1:\n",
      "     command: 'C:\\Users\\Hp\\anaconda3\\python.exe' -u -c 'import sys, setuptools, tokenize; sys.argv[0] = '\"'\"'C:\\\\Users\\\\Hp\\\\AppData\\\\Local\\\\Temp\\\\pip-install-91cj3g_t\\\\mysql-python_e21c5fa4b1b84399917dae74a088b3c5\\\\setup.py'\"'\"'; __file__='\"'\"'C:\\\\Users\\\\Hp\\\\AppData\\\\Local\\\\Temp\\\\pip-install-91cj3g_t\\\\mysql-python_e21c5fa4b1b84399917dae74a088b3c5\\\\setup.py'\"'\"';f=getattr(tokenize, '\"'\"'open'\"'\"', open)(__file__);code=f.read().replace('\"'\"'\\r\\n'\"'\"', '\"'\"'\\n'\"'\"');f.close();exec(compile(code, __file__, '\"'\"'exec'\"'\"'))' install --record 'C:\\Users\\Hp\\AppData\\Local\\Temp\\pip-record-lh0fkaef\\install-record.txt' --single-version-externally-managed --compile --install-headers 'C:\\Users\\Hp\\anaconda3\\Include\\MySQL-python'\n",
      "         cwd: C:\\Users\\Hp\\AppData\\Local\\Temp\\pip-install-91cj3g_t\\mysql-python_e21c5fa4b1b84399917dae74a088b3c5\\\n",
      "    Complete output (24 lines):\n",
      "    running install\n",
      "    running build\n",
      "    running build_py\n",
      "    creating build\n",
      "    creating build\\lib.win-amd64-3.8\n",
      "    copying _mysql_exceptions.py -> build\\lib.win-amd64-3.8\n",
      "    creating build\\lib.win-amd64-3.8\\MySQLdb\n",
      "    copying MySQLdb\\__init__.py -> build\\lib.win-amd64-3.8\\MySQLdb\n",
      "    copying MySQLdb\\converters.py -> build\\lib.win-amd64-3.8\\MySQLdb\n",
      "    copying MySQLdb\\connections.py -> build\\lib.win-amd64-3.8\\MySQLdb\n",
      "    copying MySQLdb\\cursors.py -> build\\lib.win-amd64-3.8\\MySQLdb\n",
      "    copying MySQLdb\\release.py -> build\\lib.win-amd64-3.8\\MySQLdb\n",
      "    copying MySQLdb\\times.py -> build\\lib.win-amd64-3.8\\MySQLdb\n",
      "    creating build\\lib.win-amd64-3.8\\MySQLdb\\constants\n",
      "    copying MySQLdb\\constants\\__init__.py -> build\\lib.win-amd64-3.8\\MySQLdb\\constants\n",
      "    copying MySQLdb\\constants\\CR.py -> build\\lib.win-amd64-3.8\\MySQLdb\\constants\n",
      "    copying MySQLdb\\constants\\FIELD_TYPE.py -> build\\lib.win-amd64-3.8\\MySQLdb\\constants\n",
      "    copying MySQLdb\\constants\\ER.py -> build\\lib.win-amd64-3.8\\MySQLdb\\constants\n",
      "    copying MySQLdb\\constants\\FLAG.py -> build\\lib.win-amd64-3.8\\MySQLdb\\constants\n",
      "    copying MySQLdb\\constants\\REFRESH.py -> build\\lib.win-amd64-3.8\\MySQLdb\\constants\n",
      "    copying MySQLdb\\constants\\CLIENT.py -> build\\lib.win-amd64-3.8\\MySQLdb\\constants\n",
      "    running build_ext\n",
      "    building '_mysql' extension\n",
      "    error: Microsoft Visual C++ 14.0 or greater is required. Get it with \"Microsoft C++ Build Tools\": https://visualstudio.microsoft.com/visual-cpp-build-tools/\n",
      "    ----------------------------------------\n",
      "ERROR: Command errored out with exit status 1: 'C:\\Users\\Hp\\anaconda3\\python.exe' -u -c 'import sys, setuptools, tokenize; sys.argv[0] = '\"'\"'C:\\\\Users\\\\Hp\\\\AppData\\\\Local\\\\Temp\\\\pip-install-91cj3g_t\\\\mysql-python_e21c5fa4b1b84399917dae74a088b3c5\\\\setup.py'\"'\"'; __file__='\"'\"'C:\\\\Users\\\\Hp\\\\AppData\\\\Local\\\\Temp\\\\pip-install-91cj3g_t\\\\mysql-python_e21c5fa4b1b84399917dae74a088b3c5\\\\setup.py'\"'\"';f=getattr(tokenize, '\"'\"'open'\"'\"', open)(__file__);code=f.read().replace('\"'\"'\\r\\n'\"'\"', '\"'\"'\\n'\"'\"');f.close();exec(compile(code, __file__, '\"'\"'exec'\"'\"'))' install --record 'C:\\Users\\Hp\\AppData\\Local\\Temp\\pip-record-lh0fkaef\\install-record.txt' --single-version-externally-managed --compile --install-headers 'C:\\Users\\Hp\\anaconda3\\Include\\MySQL-python' Check the logs for full command output.\n"
     ]
    }
   ],
   "source": [
    "pip install MySQL-python"
   ]
  },
  {
   "cell_type": "code",
   "execution_count": 146,
   "id": "ea567149",
   "metadata": {},
   "outputs": [
    {
     "name": "stdout",
     "output_type": "stream",
     "text": [
      "Collecting flask_mysqldb\n",
      "  Downloading Flask-MySQLdb-0.2.0.tar.gz (2.1 kB)\n",
      "Requirement already satisfied: Flask>=0.10 in c:\\users\\hp\\anaconda3\\lib\\site-packages (from flask_mysqldb) (1.1.2)\n",
      "Collecting mysqlclient\n",
      "  Downloading mysqlclient-2.0.3-cp38-cp38-win_amd64.whl (179 kB)\n",
      "Requirement already satisfied: itsdangerous>=0.24 in c:\\users\\hp\\anaconda3\\lib\\site-packages (from Flask>=0.10->flask_mysqldb) (1.1.0)\n",
      "Requirement already satisfied: Werkzeug>=0.15 in c:\\users\\hp\\anaconda3\\lib\\site-packages (from Flask>=0.10->flask_mysqldb) (1.0.1)\n",
      "Requirement already satisfied: click>=5.1 in c:\\users\\hp\\anaconda3\\lib\\site-packages (from Flask>=0.10->flask_mysqldb) (7.1.2)\n",
      "Requirement already satisfied: Jinja2>=2.10.1 in c:\\users\\hp\\anaconda3\\lib\\site-packages (from Flask>=0.10->flask_mysqldb) (2.11.3)\n",
      "Requirement already satisfied: MarkupSafe>=0.23 in c:\\users\\hp\\anaconda3\\lib\\site-packages (from Jinja2>=2.10.1->Flask>=0.10->flask_mysqldb) (1.1.1)\n",
      "Building wheels for collected packages: flask-mysqldb\n",
      "  Building wheel for flask-mysqldb (setup.py): started\n",
      "  Building wheel for flask-mysqldb (setup.py): finished with status 'done'\n",
      "  Created wheel for flask-mysqldb: filename=Flask_MySQLdb-0.2.0-py3-none-any.whl size=2666 sha256=704792f768ace736ab25af4c338ff140c9396ea73164339c3b36982f30b55063\n",
      "  Stored in directory: c:\\users\\hp\\appdata\\local\\pip\\cache\\wheels\\08\\dd\\b3\\5f7e5b2df5452362c7273b6e7e5554f3855cfc447e7440ec7e\n",
      "Successfully built flask-mysqldb\n",
      "Installing collected packages: mysqlclient, flask-mysqldb\n",
      "Successfully installed flask-mysqldb-0.2.0 mysqlclient-2.0.3\n"
     ]
    }
   ],
   "source": [
    "!pip install flask_mysqldb"
   ]
  },
  {
   "cell_type": "code",
   "execution_count": 147,
   "id": "9ae74ce4",
   "metadata": {},
   "outputs": [
    {
     "ename": "SyntaxError",
     "evalue": "invalid syntax (<ipython-input-147-fcec3a642bdf>, line 1)",
     "output_type": "error",
     "traceback": [
      "\u001b[1;36m  File \u001b[1;32m\"<ipython-input-147-fcec3a642bdf>\"\u001b[1;36m, line \u001b[1;32m1\u001b[0m\n\u001b[1;33m    mydb = MySQL(host = os.getenv(\"localhost\"), user = os.getenv(\"root\"), password = os.getenv(\"\"WXpPa1mf^&*))\u001b[0m\n\u001b[1;37m                                                                                                 ^\u001b[0m\n\u001b[1;31mSyntaxError\u001b[0m\u001b[1;31m:\u001b[0m invalid syntax\n"
     ]
    }
   ],
   "source": [
    "mydb = MySQL(host = os.getenv(\"localhost\"), user = os.getenv(\"root\"), password = os.getenv(\"\"WXpPa1mf^&*))"
   ]
  },
  {
   "cell_type": "code",
   "execution_count": 157,
   "id": "7ffacae2",
   "metadata": {},
   "outputs": [],
   "source": [
    "from flask_mysqldb import MySQL"
   ]
  },
  {
   "cell_type": "code",
   "execution_count": 163,
   "id": "120658ad",
   "metadata": {},
   "outputs": [],
   "source": [
    "mydb = MySQL()"
   ]
  },
  {
   "cell_type": "code",
   "execution_count": 164,
   "id": "e49e16b1",
   "metadata": {},
   "outputs": [],
   "source": [
    "mydb.host = 'localhost'\n",
    "mydb.user = 'root'\n",
    "mydb.password = \"WXpPa1mf^&*\"\n",
    "mydb.database = 'student'"
   ]
  },
  {
   "cell_type": "code",
   "execution_count": 165,
   "id": "656dd20e",
   "metadata": {},
   "outputs": [
    {
     "data": {
      "text/plain": [
       "<flask_mysqldb.MySQL at 0x1bcd8583e80>"
      ]
     },
     "execution_count": 165,
     "metadata": {},
     "output_type": "execute_result"
    }
   ],
   "source": [
    "mydb"
   ]
  },
  {
   "cell_type": "code",
   "execution_count": 168,
   "id": "1cb56d81",
   "metadata": {},
   "outputs": [
    {
     "ename": "AttributeError",
     "evalue": "'NoneType' object has no attribute 'cursor'",
     "output_type": "error",
     "traceback": [
      "\u001b[1;31m---------------------------------------------------------------------------\u001b[0m",
      "\u001b[1;31mAttributeError\u001b[0m                            Traceback (most recent call last)",
      "\u001b[1;32m<ipython-input-168-1a957fc9f363>\u001b[0m in \u001b[0;36m<module>\u001b[1;34m\u001b[0m\n\u001b[1;32m----> 1\u001b[1;33m \u001b[0mcur\u001b[0m \u001b[1;33m=\u001b[0m \u001b[0mmydb\u001b[0m\u001b[1;33m.\u001b[0m\u001b[0mconnection\u001b[0m\u001b[1;33m.\u001b[0m\u001b[0mcursor\u001b[0m\u001b[1;33m(\u001b[0m\u001b[1;33m)\u001b[0m\u001b[1;33m\u001b[0m\u001b[1;33m\u001b[0m\u001b[0m\n\u001b[0m",
      "\u001b[1;31mAttributeError\u001b[0m: 'NoneType' object has no attribute 'cursor'"
     ]
    }
   ],
   "source": [
    "cur = mydb.connection.cursor()"
   ]
  },
  {
   "cell_type": "code",
   "execution_count": null,
   "id": "7fcefe52",
   "metadata": {},
   "outputs": [],
   "source": []
  },
  {
   "cell_type": "code",
   "execution_count": null,
   "id": "94480380",
   "metadata": {},
   "outputs": [],
   "source": []
  }
 ],
 "metadata": {
  "kernelspec": {
   "display_name": "Python 3",
   "language": "python",
   "name": "python3"
  },
  "language_info": {
   "codemirror_mode": {
    "name": "ipython",
    "version": 3
   },
   "file_extension": ".py",
   "mimetype": "text/x-python",
   "name": "python",
   "nbconvert_exporter": "python",
   "pygments_lexer": "ipython3",
   "version": "3.8.8"
  }
 },
 "nbformat": 4,
 "nbformat_minor": 5
}
